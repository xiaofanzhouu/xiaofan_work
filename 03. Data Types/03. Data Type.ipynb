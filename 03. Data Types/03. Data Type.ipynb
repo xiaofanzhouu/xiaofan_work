{
 "cells": [
  {
   "cell_type": "markdown",
   "metadata": {
    "collapsed": false
   },
   "source": [
    "# Data types\n",
    "\n",
    "## Basic Data Types\n",
    "\n",
    "### Integer\n",
    "\n",
    "The simple counting number\n",
    "\n",
    "we can use the integer values which based other than 10\n",
    "\n",
    "![image-20230719055605284](./assets/image-20230719055605284.png)"
   ]
  },
  {
   "cell_type": "markdown",
   "metadata": {
    "collapsed": false
   },
   "source": [
    "### Floating point Number\n",
    "\n",
    "> designates a floating-point number\n",
    "\n",
    "- float values are specified with a decimal point\n",
    "- the character `e` or `E` followed by a positive or negative integer may be appended to specify scientific notation\n",
    "- Python float values is 64-bit \"double-prceision\"\n",
    "- the maximum value is 1.8 ⨉ 10308\n",
    "\n",
    "```python\n",
    "6.123456789123456789123456789e10\n",
    "```\n",
    "\n",
    "try"
   ]
  },
  {
   "cell_type": "code",
   "execution_count": 1,
   "metadata": {
    "collapsed": false
   },
   "outputs": [
    {
     "data": {
      "text/plain": [
       "61234567891.234566"
      ]
     },
     "execution_count": 1,
     "metadata": {},
     "output_type": "execute_result"
    }
   ],
   "source": [
    "6.123456789123456789123456789e10"
   ]
  },
  {
   "cell_type": "markdown",
   "metadata": {
    "collapsed": false
   },
   "source": [
    "### boolean\n",
    "\n",
    "The boolean values indicate `True` or `False`\n",
    "\n",
    "```python\n",
    "a  < b  < c \t\t# same as: a < b and b < c\n",
    "a == b == c\t\t\t# same as: a = b and b = c\n",
    "```\n",
    "\n",
    "#### Rule of Conversion to Booleans:\n",
    "\n",
    "![image-20230719055637023](./assets/image-20230719055637023.png)\n",
    "\n",
    "```python\n",
    "x = 0\n",
    "if x:\n",
    "  print('true')\n",
    "else:\n",
    "  print('false')\n",
    "```"
   ]
  },
  {
   "cell_type": "code",
   "execution_count": 2,
   "metadata": {
    "collapsed": false
   },
   "outputs": [
    {
     "name": "stdout",
     "output_type": "stream",
     "text": [
      "false\n"
     ]
    }
   ],
   "source": [
    "x = 0\n",
    "if x:\n",
    "  print('true')\n",
    "else:\n",
    "  print('false')"
   ]
  },
  {
   "cell_type": "markdown",
   "metadata": {
    "collapsed": false
   },
   "source": [
    "## Container Data Types\n",
    "\n",
    "When we refer to data, they may be a bunch of data\n",
    "\n",
    "> container type\n",
    ">\n",
    "> - group objects together\n",
    "> - the differences are\n",
    ">   - how to access individual elements\n",
    ">   - how operations are defined"
   ]
  },
  {
   "cell_type": "markdown",
   "metadata": {
    "collapsed": false
   },
   "source": [
    "### List\n",
    "\n",
    "a list of object of any kind\n",
    "\n",
    "Try to create this object, and show the value\n",
    "\n",
    "```python\n",
    "L = ['a', 20.0, 5]\n",
    "M = [3,['a',-3.0,5]]\n",
    "```"
   ]
  },
  {
   "cell_type": "code",
   "execution_count": 3,
   "metadata": {
    "collapsed": false
   },
   "outputs": [],
   "source": [
    "L = ['a', 20.0, 5]\n",
    "M = [3,['a',-3.0,5]]"
   ]
  },
  {
   "cell_type": "markdown",
   "metadata": {
    "collapsed": false
   },
   "source": [
    "To access any individual value,\n",
    "\n",
    "Try to access the given data\n",
    "\n",
    "```python\n",
    "L[1]\n",
    "L[0]\n",
    "M[1]\n",
    "M[1][2]\n",
    "```\n",
    "\n"
   ]
  },
  {
   "cell_type": "code",
   "execution_count": 4,
   "metadata": {
    "collapsed": false
   },
   "outputs": [
    {
     "data": {
      "text/plain": [
       "5"
      ]
     },
     "execution_count": 4,
     "metadata": {},
     "output_type": "execute_result"
    }
   ],
   "source": [
    "L[1]\n",
    "L[0]\n",
    "M[1]\n",
    "M[1][2]"
   ]
  },
  {
   "cell_type": "markdown",
   "metadata": {
    "collapsed": false
   },
   "source": [
    "> The range can also generate the values, and put in to the list The `list` function define how to create list from the range\n",
    "\n",
    "Try to write the code as given and see the L value\n",
    "\n",
    "```python\n",
    "L = list(range(4))\n",
    "```"
   ]
  },
  {
   "cell_type": "code",
   "execution_count": 5,
   "metadata": {
    "collapsed": false
   },
   "outputs": [],
   "source": [
    "L = list(range(4))"
   ]
  },
  {
   "cell_type": "markdown",
   "metadata": {
    "collapsed": false
   },
   "source": [
    "```python\n",
    "L = list(range(17,29,4))\n",
    "```"
   ]
  },
  {
   "cell_type": "code",
   "execution_count": 6,
   "metadata": {
    "collapsed": false
   },
   "outputs": [],
   "source": [
    "L = list(range(17,29,4))"
   ]
  },
  {
   "cell_type": "markdown",
   "metadata": {
    "collapsed": false
   },
   "source": [
    "> `len` function returns the length of the list\n",
    " Try\n",
    "\n",
    "```\n",
    "len(L)\n",
    "```"
   ]
  },
  {
   "cell_type": "markdown",
   "metadata": {
    "collapsed": false
   },
   "source": [
    "#### List Slicing\n",
    "\n",
    "\n",
    "\n",
    "Slicing is to get only the list we want\n",
    "\n",
    "it will create a new list\n",
    "\n",
    "- `L[i:j]` means create a list by taking all element at `L[i]` until `L[j-1]`\n",
    "\n",
    "`L[2:5]`\n",
    "\n",
    "![image-20230719055731424](./assets/image-20230719055731424.png)\n",
    "\n",
    "\n",
    "\n",
    "\n",
    "- `L[i:]` all elements except the `1` first ones\n",
    "\n",
    "`L[2:]`\n",
    "\n",
    "![image-20230719055753762](./assets/image-20230719055753762.png)\n",
    "\n",
    "\n",
    "\n",
    "\n",
    "- `L[:i]` taking the first `i` elements\n",
    "\n",
    "`L[:2]`\n",
    "\n",
    "![image-20230719055812702](./assets/image-20230719055812702.png)\n",
    "\n",
    "\n",
    "\n",
    "\n",
    "- `L[-i:]` taking the last `i` elements\n",
    "\n",
    "`L[-2:]`\n",
    "\n",
    "![image-20230719055825194](./assets/image-20230719055825194.png)\n",
    "\n",
    "\n",
    "\n",
    "\n",
    "- `L[:-i]` means create a list by taking all element at `L[i]` until `L[j-1]`\n",
    "\n",
    "`L[:-2]`\n",
    "\n",
    "![image-20230719055841629](./assets/image-20230719055841629.png)\n",
    "\n",
    "\n",
    "\n",
    "\n",
    "Or we can mix them together\n",
    "\n",
    "`L[2:-1]`\n",
    "\n",
    "![image-20230719055856406](./assets/image-20230719055856406.png)\n",
    "\n",
    "`L[-4,-1]`\n",
    "\n",
    "![image-20230719055914019](./assets/image-20230719055914019.png)\n",
    "\n"
   ]
  },
  {
   "cell_type": "markdown",
   "metadata": {
    "collapsed": false
   },
   "source": [
    "#### Task\n",
    "\n",
    "Execute the following statements:\n",
    "\n",
    "```python\n",
    "L = [1,5]\n",
    "L3 = 3*L\n",
    "```"
   ]
  },
  {
   "cell_type": "code",
   "execution_count": 7,
   "metadata": {
    "collapsed": false
   },
   "outputs": [],
   "source": [
    "L = [1,5]\n",
    "L3 = 3*L"
   ]
  },
  {
   "cell_type": "markdown",
   "metadata": {
    "collapsed": false
   },
   "source": [
    "1. What is the content of `L3`?\n",
    "\n",
    "2. Try to predict the outcome of the following command\n",
    "\n",
    "```python\n",
    "L3[0]\n",
    "L3[-1]\n",
    "L3[10]\n",
    "```"
   ]
  },
  {
   "cell_type": "code",
   "execution_count": 8,
   "metadata": {
    "collapsed": false
   },
   "outputs": [
    {
     "ename": "IndexError",
     "evalue": "list index out of range",
     "output_type": "error",
     "traceback": [
      "\u001b[1;31m---------------------------------------------------------------------------\u001b[0m",
      "\u001b[1;31mIndexError\u001b[0m                                Traceback (most recent call last)",
      "\u001b[1;32mc:\\Users\\satie\\fork\\LectureNote\\03. Data Types\\03. Data Type.ipynb Cell 20\u001b[0m line \u001b[0;36m3\n\u001b[0;32m      <a href='vscode-notebook-cell:/c%3A/Users/satie/fork/LectureNote/03.%20Data%20Types/03.%20Data%20Type.ipynb#X25sZmlsZQ%3D%3D?line=0'>1</a>\u001b[0m L3[\u001b[39m0\u001b[39m]\n\u001b[0;32m      <a href='vscode-notebook-cell:/c%3A/Users/satie/fork/LectureNote/03.%20Data%20Types/03.%20Data%20Type.ipynb#X25sZmlsZQ%3D%3D?line=1'>2</a>\u001b[0m L3[\u001b[39m-\u001b[39m\u001b[39m1\u001b[39m]\n\u001b[1;32m----> <a href='vscode-notebook-cell:/c%3A/Users/satie/fork/LectureNote/03.%20Data%20Types/03.%20Data%20Type.ipynb#X25sZmlsZQ%3D%3D?line=2'>3</a>\u001b[0m L3[\u001b[39m10\u001b[39;49m]\n",
      "\u001b[1;31mIndexError\u001b[0m: list index out of range"
     ]
    }
   ],
   "source": [
    "L3[0]\n",
    "L3[-1]\n",
    "L3[10]"
   ]
  },
  {
   "cell_type": "markdown",
   "metadata": {
    "collapsed": false
   },
   "source": [
    "3. What does the following command do?\n",
    "\n",
    "```python\n",
    "L4 = [k**2 for k in L3]\n",
    "```"
   ]
  },
  {
   "cell_type": "code",
   "execution_count": 10,
   "metadata": {
    "collapsed": false
   },
   "outputs": [
    {
     "data": {
      "text/plain": [
       "[1, 25, 1, 25, 1, 25]"
      ]
     },
     "execution_count": 10,
     "metadata": {},
     "output_type": "execute_result"
    }
   ],
   "source": [
    "L4 = [k**2 for k in L3]\n",
    "L4"
   ]
  },
  {
   "cell_type": "markdown",
   "metadata": {
    "collapsed": false
   },
   "source": [
    "4. Concatenate `L3` and `L4` to a new list `L5`"
   ]
  },
  {
   "cell_type": "code",
   "execution_count": 11,
   "metadata": {
    "collapsed": false
   },
   "outputs": [
    {
     "data": {
      "text/plain": [
       "[1, 5, 1, 5, 1, 5, 1, 25, 1, 25, 1, 25]"
      ]
     },
     "execution_count": 11,
     "metadata": {},
     "output_type": "execute_result"
    }
   ],
   "source": [
    "L5 = L3+L4\n",
    "L5"
   ]
  },
  {
   "cell_type": "markdown",
   "metadata": {
    "collapsed": false
   },
   "source": [
    "### Altering List\n",
    "\n",
    "List can be deleted using the empty list `[]`\n",
    "\n",
    "```python\n",
    "L = ['a','b','c','d','e']\n",
    "L[2:3] = []\n",
    "L\n",
    "```"
   ]
  },
  {
   "cell_type": "code",
   "execution_count": 12,
   "metadata": {
    "collapsed": false
   },
   "outputs": [
    {
     "data": {
      "text/plain": [
       "['a', 'b', 'd', 'e']"
      ]
     },
     "execution_count": 12,
     "metadata": {},
     "output_type": "execute_result"
    }
   ],
   "source": [
    "L = ['a','b','c','d','e']\n",
    "L[2:3] = []\n",
    "L"
   ]
  },
  {
   "cell_type": "markdown",
   "metadata": {
    "collapsed": false
   },
   "source": [
    "In addition Two list can be concatenated by plus operator +\n",
    "\n",
    "```python\n",
    "L = [1, -17]\n",
    "M = [-23.5, 18.3, 5.0]\n",
    "L+M\n",
    "```"
   ]
  },
  {
   "cell_type": "code",
   "execution_count": 13,
   "metadata": {
    "collapsed": false
   },
   "outputs": [
    {
     "data": {
      "text/plain": [
       "[1, -17, -23.5, 18.3, 5.0]"
      ]
     },
     "execution_count": 13,
     "metadata": {},
     "output_type": "execute_result"
    }
   ],
   "source": [
    "L = [1, -17]\n",
    "M = [-23.5, 18.3, 5.0]\n",
    "L+M"
   ]
  },
  {
   "cell_type": "markdown",
   "metadata": {
    "collapsed": false
   },
   "source": [
    "### Belonging to a List\n",
    "\n",
    "in and not in to determine whetehr an element belongs to a list or not\n",
    "\n",
    "```python\n",
    "L = ['a', 1,'b',2]\n",
    "'a' in L\n",
    "```"
   ]
  },
  {
   "cell_type": "code",
   "execution_count": 14,
   "metadata": {
    "collapsed": false
   },
   "outputs": [
    {
     "data": {
      "text/plain": [
       "True"
      ]
     },
     "execution_count": 14,
     "metadata": {},
     "output_type": "execute_result"
    }
   ],
   "source": [
    "L = ['a', 1,'b',2]\n",
    "'a' in L"
   ]
  },
  {
   "cell_type": "markdown",
   "metadata": {
    "collapsed": false
   },
   "source": [
    "\n",
    "\n",
    "```python\n",
    "1 in L\n",
    "```"
   ]
  },
  {
   "cell_type": "code",
   "execution_count": 15,
   "metadata": {
    "collapsed": false
   },
   "outputs": [
    {
     "data": {
      "text/plain": [
       "True"
      ]
     },
     "execution_count": 15,
     "metadata": {},
     "output_type": "execute_result"
    }
   ],
   "source": [
    "1 in L"
   ]
  },
  {
   "cell_type": "markdown",
   "metadata": {
    "collapsed": false
   },
   "source": [
    "```python\n",
    "4 not in L\n",
    "```"
   ]
  },
  {
   "cell_type": "code",
   "execution_count": 16,
   "metadata": {
    "collapsed": false
   },
   "outputs": [
    {
     "data": {
      "text/plain": [
       "True"
      ]
     },
     "execution_count": 16,
     "metadata": {},
     "output_type": "execute_result"
    }
   ],
   "source": [
    "4 not in L"
   ]
  },
  {
   "cell_type": "markdown",
   "metadata": {
    "collapsed": false
   },
   "source": [
    "#### List Methods\n",
    "\n",
    "many useful Methods\n",
    "\n",
    "![image-20230719060506595](./assets/image-20230719060506595.png)\n",
    "\n",
    "Try\n",
    "\n",
    "```python\n",
    "L.reverse()\n",
    "L\n",
    "```"
   ]
  },
  {
   "cell_type": "code",
   "execution_count": 17,
   "metadata": {
    "collapsed": false
   },
   "outputs": [
    {
     "data": {
      "text/plain": [
       "[2, 'b', 1, 'a']"
      ]
     },
     "execution_count": 17,
     "metadata": {},
     "output_type": "execute_result"
    }
   ],
   "source": [
    "L.reverse()\n",
    "L"
   ]
  },
  {
   "cell_type": "markdown",
   "metadata": {
    "collapsed": false
   },
   "source": [
    "```python\n",
    "L.append('y')\n",
    "```"
   ]
  },
  {
   "cell_type": "code",
   "execution_count": 18,
   "metadata": {
    "collapsed": false
   },
   "outputs": [
    {
     "data": {
      "text/plain": [
       "[2, 'b', 1, 'a', 'Y']"
      ]
     },
     "execution_count": 18,
     "metadata": {},
     "output_type": "execute_result"
    }
   ],
   "source": [
    "L.append('Y')\n",
    "L"
   ]
  },
  {
   "cell_type": "markdown",
   "metadata": {
    "collapsed": false
   },
   "source": [
    "### Tuple\n",
    "- immutable list\n",
    "- cannot be modified\n",
    "- can be just a comma separated sequence of objects\n",
    "- or encloses the tuple in a pair of parentheses\n",
    "\n",
    "```\n",
    "my_tuple = 1, 2, 3\n",
    "my_tuple = (1, 2, 3)\n",
    "my_tuple = 1, 2, 3,\n",
    "```\n"
   ]
  },
  {
   "cell_type": "code",
   "execution_count": 19,
   "metadata": {
    "collapsed": false
   },
   "outputs": [],
   "source": [
    "my_tuple = 1, 2, 3\n",
    "my_tuple = (1, 2, 3)\n",
    "my_tuple = 1, 2, 3,"
   ]
  },
  {
   "cell_type": "markdown",
   "metadata": {
    "collapsed": false
   },
   "source": [
    "try\n",
    "\n",
    "```\n",
    "len(my_tuple)\n",
    "\n",
    "my_tuple[0] = 'a'\n",
    "```"
   ]
  },
  {
   "cell_type": "code",
   "execution_count": 20,
   "metadata": {
    "collapsed": false
   },
   "outputs": [
    {
     "ename": "TypeError",
     "evalue": "'tuple' object does not support item assignment",
     "output_type": "error",
     "traceback": [
      "\u001b[1;31m---------------------------------------------------------------------------\u001b[0m",
      "\u001b[1;31mTypeError\u001b[0m                                 Traceback (most recent call last)",
      "\u001b[1;32mc:\\Users\\satie\\fork\\LectureNote\\03. Data Types\\03. Data Type.ipynb Cell 42\u001b[0m line \u001b[0;36m3\n\u001b[0;32m      <a href='vscode-notebook-cell:/c%3A/Users/satie/fork/LectureNote/03.%20Data%20Types/03.%20Data%20Type.ipynb#X56sZmlsZQ%3D%3D?line=0'>1</a>\u001b[0m \u001b[39mlen\u001b[39m(my_tuple)\n\u001b[1;32m----> <a href='vscode-notebook-cell:/c%3A/Users/satie/fork/LectureNote/03.%20Data%20Types/03.%20Data%20Type.ipynb#X56sZmlsZQ%3D%3D?line=2'>3</a>\u001b[0m my_tuple[\u001b[39m0\u001b[39;49m] \u001b[39m=\u001b[39m \u001b[39m'\u001b[39m\u001b[39ma\u001b[39m\u001b[39m'\u001b[39m\n",
      "\u001b[1;31mTypeError\u001b[0m: 'tuple' object does not support item assignment"
     ]
    }
   ],
   "source": [
    "len(my_tuple)\n",
    "\n",
    "my_tuple[0] = 'a'"
   ]
  },
  {
   "cell_type": "markdown",
   "metadata": {
    "collapsed": false
   },
   "source": [
    "### Dictionaries\n",
    "\n",
    "\n",
    "\n",
    "- Lists, tuple are ordered set of object\n",
    "- object are inserted, accessed, and processed according to the **index** position\n",
    "- dictionary is an unordered set of pairs\n",
    "- access dictionary data by keys\n",
    "\n",
    "> The data can be created as followed\n",
    "\n",
    "```python\n",
    "truck_wheel = {\n",
    "              'name':'wheel',\n",
    "              'mass':5.7,\n",
    "              'Ix': 20.0,\n",
    "              'Iy': 1.,\n",
    "              'Iz' : 17.,\n",
    "              'center of mass': [0.,0.,0.]\n",
    "              }\n",
    "```"
   ]
  },
  {
   "cell_type": "code",
   "execution_count": 21,
   "metadata": {
    "collapsed": false
   },
   "outputs": [],
   "source": [
    "truck_wheel = {\n",
    "              'name':'wheel',\n",
    "              'mass':5.7,\n",
    "              'Ix': 20.0,\n",
    "              'Iy': 1.,\n",
    "              'Iz' : 17.,\n",
    "              'center of mass': [0.,0.,0.]\n",
    "              }"
   ]
  },
  {
   "cell_type": "markdown",
   "metadata": {
    "collapsed": false
   },
   "source": [
    "The element can be accessed by their keys\n",
    "\n",
    "```python\n",
    "truck_wheel['name']\n",
    "truck_wheel['mass']\n",
    "```"
   ]
  },
  {
   "cell_type": "code",
   "execution_count": 22,
   "metadata": {
    "collapsed": false
   },
   "outputs": [
    {
     "data": {
      "text/plain": [
       "5.7"
      ]
     },
     "execution_count": 22,
     "metadata": {},
     "output_type": "execute_result"
    }
   ],
   "source": [
    "truck_wheel['name']\n",
    "truck_wheel['mass']"
   ]
  },
  {
   "cell_type": "markdown",
   "metadata": {
    "collapsed": false
   },
   "source": [
    "New objects are added to the dictionary by creating a new *key*\n",
    "\n",
    "```python\n",
    "truck_wheel['Ixy'] = 0.0\n",
    "truck_wheel\n",
    "```"
   ]
  },
  {
   "cell_type": "code",
   "execution_count": 23,
   "metadata": {
    "collapsed": false
   },
   "outputs": [
    {
     "data": {
      "text/plain": [
       "{'name': 'wheel',\n",
       " 'mass': 5.7,\n",
       " 'Ix': 20.0,\n",
       " 'Iy': 1.0,\n",
       " 'Iz': 17.0,\n",
       " 'center of mass': [0.0, 0.0, 0.0],\n",
       " 'Ixy': 0.0}"
      ]
     },
     "execution_count": 23,
     "metadata": {},
     "output_type": "execute_result"
    }
   ],
   "source": [
    "truck_wheel['Ixy'] = 0.0\n",
    "truck_wheel"
   ]
  },
  {
   "cell_type": "markdown",
   "metadata": {
    "collapsed": false
   },
   "source": [
    "#### Looping over dictionaries\n",
    "\n",
    "\n",
    "\n",
    "It can be done using the keys\n",
    "\n",
    "```python\n",
    "for key in truck_wheel.keys():\n",
    "  print(key)\n",
    "```\n",
    "\n",
    "or equivalently:\n",
    "\n",
    "```python\n",
    "for key in truck_wheel:\n",
    "  print(key)\n",
    "```"
   ]
  },
  {
   "cell_type": "code",
   "execution_count": 24,
   "metadata": {
    "collapsed": false
   },
   "outputs": [
    {
     "name": "stdout",
     "output_type": "stream",
     "text": [
      "name\n",
      "mass\n",
      "Ix\n",
      "Iy\n",
      "Iz\n",
      "center of mass\n",
      "Ixy\n"
     ]
    }
   ],
   "source": [
    "for key in truck_wheel.keys():\n",
    "  print(key)"
   ]
  },
  {
   "cell_type": "markdown",
   "metadata": {
    "collapsed": false
   },
   "source": [
    "ฺOr by values\n",
    "\n",
    "```python\n",
    "for value in truck_wheel.values():\n",
    "  print (value)\n",
    "```"
   ]
  },
  {
   "cell_type": "code",
   "execution_count": 25,
   "metadata": {
    "collapsed": false
   },
   "outputs": [
    {
     "name": "stdout",
     "output_type": "stream",
     "text": [
      "wheel\n",
      "5.7\n",
      "20.0\n",
      "1.0\n",
      "17.0\n",
      "[0.0, 0.0, 0.0]\n",
      "0.0\n"
     ]
    }
   ],
   "source": [
    "for value in truck_wheel.values():\n",
    "  print (value)"
   ]
  },
  {
   "cell_type": "markdown",
   "metadata": {
    "collapsed": false
   },
   "source": [
    "To get by item (both, key and value pairs)\n",
    "\n",
    "```python\n",
    "for item in truck_wheel.items():\n",
    "  print(item)\n",
    "```"
   ]
  },
  {
   "cell_type": "code",
   "execution_count": 26,
   "metadata": {
    "collapsed": false
   },
   "outputs": [
    {
     "name": "stdout",
     "output_type": "stream",
     "text": [
      "('name', 'wheel')\n",
      "('mass', 5.7)\n",
      "('Ix', 20.0)\n",
      "('Iy', 1.0)\n",
      "('Iz', 17.0)\n",
      "('center of mass', [0.0, 0.0, 0.0])\n",
      "('Ixy', 0.0)\n"
     ]
    }
   ],
   "source": [
    "for item in truck_wheel.items():\n",
    "  print(item)"
   ]
  },
  {
   "cell_type": "markdown",
   "metadata": {
    "collapsed": false
   },
   "source": [
    "### Sets\n",
    "\n",
    "\n",
    "\n",
    "- Sets is the same properties, and operation as set in methametics\n",
    "- collection of distint objects\n",
    "\n",
    "Some mathematic set expression are\n",
    "$$\n",
    "A = {1,2,3,4}, B = 5\\\\\n",
    "C = A \\cup B\\\\\n",
    "D = A \\cap B\\\\\n",
    "E = C \\backslash A\\\\\n",
    "$$\n",
    "Will equivaent to the code\n",
    "\n",
    "```python\n",
    "A = {1,2,3,4}\n",
    "B = {5}\n",
    "C = A.union(B)\n",
    "D = A.intersection(C)\n",
    "E = C.difference(A)\n",
    "5 in c\n",
    "```\n",
    "\n"
   ]
  },
  {
   "cell_type": "code",
   "execution_count": 28,
   "metadata": {
    "collapsed": false
   },
   "outputs": [
    {
     "data": {
      "text/plain": [
       "True"
      ]
     },
     "execution_count": 28,
     "metadata": {},
     "output_type": "execute_result"
    }
   ],
   "source": [
    "A = {1,2,3,4}\n",
    "B = {5}\n",
    "C = A.union(B)\n",
    "D = A.intersection(C)\n",
    "E = C.difference(A)\n",
    "5 in C"
   ]
  },
  {
   "cell_type": "markdown",
   "metadata": {
    "collapsed": false
   },
   "source": [
    "> Set contain element only once, see this\n",
    "\n",
    "```python\n",
    "A = {1,2,3,3,3}\n",
    "B = {1,2,3}\n",
    "A == B\n",
    "```"
   ]
  },
  {
   "cell_type": "code",
   "execution_count": 29,
   "metadata": {
    "collapsed": false
   },
   "outputs": [
    {
     "data": {
      "text/plain": [
       "True"
      ]
     },
     "execution_count": 29,
     "metadata": {},
     "output_type": "execute_result"
    }
   ],
   "source": [
    "A = {1,2,3,3,3}\n",
    "B = {1,2,3}\n",
    "A == B"
   ]
  },
  {
   "cell_type": "markdown",
   "metadata": {
    "collapsed": false
   },
   "source": [
    "> and a set is unordered\n",
    "\n",
    "the order of set is not definded\n",
    "\n",
    "```python\n",
    "A = {1,2,3}\n",
    "B = {1,3,2}\n",
    "A == B\n",
    "```"
   ]
  },
  {
   "cell_type": "code",
   "execution_count": 30,
   "metadata": {
    "collapsed": false
   },
   "outputs": [
    {
     "data": {
      "text/plain": [
       "True"
      ]
     },
     "execution_count": 30,
     "metadata": {},
     "output_type": "execute_result"
    }
   ],
   "source": [
    "A = {1,2,3}\n",
    "B = {1,3,2}\n",
    "A == B"
   ]
  },
  {
   "cell_type": "markdown",
   "metadata": {
    "collapsed": false
   },
   "source": [
    "## Type checking\n",
    "\n",
    "The direct way to see the type of a varialbe is to use the `type` command\n",
    "\n",
    "```python\n",
    "label = 'local error'\n",
    "type(label)\n",
    "```"
   ]
  },
  {
   "cell_type": "code",
   "execution_count": 31,
   "metadata": {
    "collapsed": false
   },
   "outputs": [
    {
     "data": {
      "text/plain": [
       "str"
      ]
     },
     "execution_count": 31,
     "metadata": {},
     "output_type": "execute_result"
    }
   ],
   "source": [
    "label = 'local error'\n",
    "type(label)"
   ]
  },
  {
   "cell_type": "markdown",
   "metadata": {
    "collapsed": false
   },
   "source": [
    "```python\n",
    "x = [1,2]\n",
    "type(x)\n",
    "```"
   ]
  },
  {
   "cell_type": "code",
   "execution_count": 32,
   "metadata": {
    "collapsed": false
   },
   "outputs": [
    {
     "data": {
      "text/plain": [
       "list"
      ]
     },
     "execution_count": 32,
     "metadata": {},
     "output_type": "execute_result"
    }
   ],
   "source": [
    "x = [1,2]\n",
    "type(x)"
   ]
  },
  {
   "cell_type": "markdown",
   "metadata": {
    "collapsed": false
   },
   "source": [
    "> To check that the data is this type or ot use `isinstance` Comparing with the type\n",
    "\n",
    "```python\n",
    "isinstance(x,list)\n",
    "```"
   ]
  },
  {
   "cell_type": "code",
   "execution_count": 33,
   "metadata": {
    "collapsed": false
   },
   "outputs": [
    {
     "data": {
      "text/plain": [
       "True"
      ]
     },
     "execution_count": 33,
     "metadata": {},
     "output_type": "execute_result"
    }
   ],
   "source": [
    "isinstance(x,list)"
   ]
  },
  {
   "cell_type": "markdown",
   "metadata": {
    "collapsed": false
   },
   "source": [
    "## Task\n",
    "\n",
    "### Task 1 Fibonacci\n",
    "\n",
    "Write a function that computes the list of the first 100 Fibonacci numbers. By definition, the first two numbers in Fibonacci sequence are 0 and 1, and each subsequent number is the sum of the previous two. As an example, here are the first 10 Fibonacci numbers: 0,1,1,2,3,5,8,13,21, and 34\n",
    "\n",
    "![image-20230719061113056](./assets/image-20230719061113056.png)"
   ]
  },
  {
   "cell_type": "code",
   "execution_count": 35,
   "metadata": {
    "collapsed": false
   },
   "outputs": [],
   "source": [
    "def fibonacci(n=100):\n",
    "    fib_sequence = [0, 1]\n",
    "    for i in range(2, n):\n",
    "        fib_sequence.append(fib_sequence[i-1] + fib_sequence[i-2])\n",
    "    return fib_sequence\n",
    "\n"
   ]
  },
  {
   "cell_type": "code",
   "execution_count": 36,
   "metadata": {},
   "outputs": [
    {
     "name": "stdout",
     "output_type": "stream",
     "text": [
      "[0, 1, 1, 2, 3, 5, 8, 13, 21, 34, 55, 89, 144, 233, 377, 610, 987, 1597, 2584, 4181, 6765, 10946, 17711, 28657, 46368, 75025, 121393, 196418, 317811, 514229, 832040, 1346269, 2178309, 3524578, 5702887, 9227465, 14930352, 24157817, 39088169, 63245986, 102334155, 165580141, 267914296, 433494437, 701408733, 1134903170, 1836311903, 2971215073, 4807526976, 7778742049, 12586269025, 20365011074, 32951280099, 53316291173, 86267571272, 139583862445, 225851433717, 365435296162, 591286729879, 956722026041, 1548008755920, 2504730781961, 4052739537881, 6557470319842, 10610209857723, 17167680177565, 27777890035288, 44945570212853, 72723460248141, 117669030460994, 190392490709135, 308061521170129, 498454011879264, 806515533049393, 1304969544928657, 2111485077978050, 3416454622906707, 5527939700884757, 8944394323791464, 14472334024676221, 23416728348467685, 37889062373143906, 61305790721611591, 99194853094755497, 160500643816367088, 259695496911122585, 420196140727489673, 679891637638612258, 1100087778366101931, 1779979416004714189, 2880067194370816120, 4660046610375530309, 7540113804746346429, 12200160415121876738, 19740274219868223167, 31940434634990099905, 51680708854858323072, 83621143489848422977, 135301852344706746049, 218922995834555169026]\n"
     ]
    }
   ],
   "source": [
    "# Get the first 100 Fibonacci numbers\n",
    "first_100_fibonacci = fibonacci(100)\n",
    "print(first_100_fibonacci)\n"
   ]
  },
  {
   "cell_type": "markdown",
   "metadata": {
    "collapsed": false
   },
   "source": [
    "### Task 2 Morse code\n",
    "\n",
    "- Write a program that can generate the morse code from any text string\n",
    "- Each character is separate by space\n",
    "- Using `.` and `-` for the code\n",
    "\n",
    "<img src=\"./assets/800px-International_Morse_Code.svg.png\" style=\"zoom:33%;\" />\n",
    "\n",
    "**Hint**\n",
    "\n",
    "- where to find the character\n",
    "- [https://home.unicode.org/](https://colab.research.google.com/corgiredirector?site=https%3A%2F%2Fhome.unicode.org%2F&link_redirector=1)\n",
    "- [http://www.unicode.org/charts/](https://colab.research.google.com/corgiredirector?site=http%3A%2F%2Fwww.unicode.org%2Fcharts%2F&link_redirector=1)\n",
    "\n",
    "after getting the Unicode -> use the chr(0x2558) to convert to character"
   ]
  },
  {
   "cell_type": "code",
   "execution_count": 37,
   "metadata": {
    "collapsed": false
   },
   "outputs": [],
   "source": [
    "# Morse code mapping for alphabets and numbers\n",
    "MORSE_CODE_DICT = {\n",
    "    'A': '.-', 'B': '-...', 'C': '-.-.', 'D': '-..', 'E': '.', 'F': '..-.', 'G': '--.', 'H': '....', 'I': '..', 'J': '.---',\n",
    "    'K': '-.-', 'L': '.-..', 'M': '--', 'N': '-.', 'O': '---', 'P': '.--.', 'Q': '--.-', 'R': '.-.', 'S': '...', 'T': '-',\n",
    "    'U': '..-', 'V': '...-', 'W': '.--', 'X': '-..-', 'Y': '-.--', 'Z': '--..',\n",
    "    '1': '.----', '2': '..---', '3': '...--', '4': '....-', '5': '.....', '6': '-....', '7': '--...', '8': '---..', '9': '----.', '0': '-----',\n",
    "    ' ': ' '\n",
    "}"
   ]
  },
  {
   "cell_type": "code",
   "execution_count": 38,
   "metadata": {},
   "outputs": [],
   "source": [
    "\n",
    "def text_to_morse(text):\n",
    "    morse = ''\n",
    "    for char in text.upper():\n",
    "        morse += MORSE_CODE_DICT.get(char, '') + ' '  # Append space after each character's morse code\n",
    "    return morse\n",
    "\n",
    "def morse_to_unicode(morse):\n",
    "    return morse.replace('.', chr(0x2558)).replace('-', chr(0x2558) + chr(0x2558))\n"
   ]
  },
  {
   "cell_type": "code",
   "execution_count": 40,
   "metadata": {},
   "outputs": [
    {
     "name": "stdout",
     "output_type": "stream",
     "text": [
      "Morse Code: -.-. .... .-.  ----- -..- ..--- ..... ..... ---..  \n",
      "Unicode Representation: ╘╘╘╘╘╘ ╘╘╘╘ ╘╘╘╘  ╘╘╘╘╘╘╘╘╘╘ ╘╘╘╘╘╘ ╘╘╘╘╘╘╘╘ ╘╘╘╘╘ ╘╘╘╘╘ ╘╘╘╘╘╘╘╘  \n"
     ]
    }
   ],
   "source": [
    "\n",
    "text = \"chr(0x2558)\"\n",
    "morse_code = text_to_morse(text)\n",
    "unicode_representation = morse_to_unicode(morse_code)\n",
    "print(f\"Morse Code: {morse_code}\")\n",
    "print(f\"Unicode Representation: {unicode_representation}\")"
   ]
  },
  {
   "cell_type": "markdown",
   "metadata": {
    "collapsed": false
   },
   "source": [
    "### Task 3 Largest Formed Number - just for fun\n",
    "\n",
    "Write a program that accepts a list of four non negative integers, arranges them such that they form a largest possible number.\n",
    "\n",
    "For example [50,2,1,9], the largest formed number is 95021\n",
    "\n",
    "Be carefull if [10,1] the answer is not 101 but 110"
   ]
  },
  {
   "cell_type": "code",
   "execution_count": 41,
   "metadata": {
    "collapsed": false
   },
   "outputs": [],
   "source": [
    "from functools import cmp_to_key\n",
    "\n",
    "def custom_compare(x, y):\n",
    "    # Compare two numbers based on their concatenation\n",
    "    if x + y > y + x:\n",
    "        return 1\n",
    "    elif x + y < y + x:\n",
    "        return -1\n",
    "    else:\n",
    "        return 0\n",
    "\n",
    "def largest_number(nums):\n",
    "    # Convert all numbers to string\n",
    "    nums_str = list(map(str, nums))\n",
    "    # Sort numbers based on custom comparison\n",
    "    nums_str.sort(key=cmp_to_key(custom_compare), reverse=True)\n",
    "    # Join all numbers to form the largest number\n",
    "    return ''.join(nums_str)\n",
    "\n",
    "\n"
   ]
  },
  {
   "cell_type": "code",
   "execution_count": 43,
   "metadata": {},
   "outputs": [
    {
     "name": "stdout",
     "output_type": "stream",
     "text": [
      "Largest possible number: 95021\n"
     ]
    }
   ],
   "source": [
    "nums = 50,2,1,9\n",
    "print(f\"Largest possible number: {largest_number(nums)}\")"
   ]
  },
  {
   "cell_type": "code",
   "execution_count": 44,
   "metadata": {},
   "outputs": [
    {
     "name": "stdout",
     "output_type": "stream",
     "text": [
      "Largest possible number: 110\n"
     ]
    }
   ],
   "source": [
    "nums = 10,1\n",
    "print(f\"Largest possible number: {largest_number(nums)}\")"
   ]
  }
 ],
 "metadata": {
  "kernelspec": {
   "display_name": "Python 3",
   "language": "python",
   "name": "python3"
  },
  "language_info": {
   "codemirror_mode": {
    "name": "ipython",
    "version": 3
   },
   "file_extension": ".py",
   "mimetype": "text/x-python",
   "name": "python",
   "nbconvert_exporter": "python",
   "pygments_lexer": "ipython3",
   "version": "3.9.0"
  }
 },
 "nbformat": 4,
 "nbformat_minor": 0
}
