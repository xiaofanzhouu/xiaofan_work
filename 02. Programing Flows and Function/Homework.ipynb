{
 "cells": [
  {
   "cell_type": "markdown",
   "source": [
    "## Task1\n",
    "In a program, Students have to input their information to check what type of him.\n",
    "\n",
    "The system will ask for student type which can be ‘f’ for full time student and ‘p’ for part-time student.\n",
    "\n",
    "If the gpa is greater than 2.00 and his age is more than 23 then the application will return “you are adult”\n",
    "\n",
    "If the gpa is less than 2 , the application will check that the student is a part time student or the age is more than 23, if it is, the application will return “you need more time to prepare yourselves” otherwise it will return “Good luck in your study”)"
   ],
   "metadata": {
    "collapsed": false
   }
  },
  {
   "cell_type": "code",
   "execution_count": 9,
   "outputs": [
    {
     "name": "stdout",
     "output_type": "stream",
     "text": [
      "Good luck in your study\n"
     ]
    }
   ],
   "source": [
    "def check_student_type(student_type):\n",
    "    gpa = float(input(\"Enter your GPA: \"))\n",
    "    age = int(input(\"Enter your age: \"))\n",
    "\n",
    "    if student_type == 'f':\n",
    "        if gpa > 2.00 and age > 23:\n",
    "            return \"You are an adult\"\n",
    "    elif student_type == 'p':\n",
    "        if gpa < 2 or age > 23:\n",
    "            return \"You need more time to prepare yourselves\"\n",
    "\n",
    "    return \"Good luck in your study\"\n",
    "\n",
    "student_type = input(\"Enter your student type (f for full-time, p for part-time): \").lower()\n",
    "result = check_student_type(student_type)\n",
    "print(result)\n",
    "\n",
    "\n",
    "\n"
   ],
   "metadata": {
    "collapsed": false,
    "ExecuteTime": {
     "end_time": "2023-08-30T11:08:53.961389700Z",
     "start_time": "2023-08-30T11:08:44.745844100Z"
    }
   }
  },
  {
   "cell_type": "markdown",
   "source": [
    "## Task2\n",
    "\n",
    "Write a program that performs a plus-one cipher.\n",
    "\n",
    "Example:\n",
    "\n",
    "> <span style=\"color: SkyBlue\">Please enter a string: </span><span style=\"color:Red\"><b>ABC</b></span>\n",
    ">\n",
    "> <span style=\"color:SkyBlue\">The plus one cipher is <b>BCD</b></span>\n",
    "\n",
    "**Hint**\n",
    "\n",
    "The string can be concatenated by \"+\" symbol\n",
    "\n",
    "```python\n",
    "output = 'x' + 'y'\n",
    "print(output)\n",
    "```\n",
    "\n",
    "\n"
   ],
   "metadata": {
    "collapsed": false
   }
  },
  {
   "cell_type": "code",
   "execution_count": 10,
   "outputs": [
    {
     "name": "stdout",
     "output_type": "stream",
     "text": [
      "The plus one cipher is: xp\n"
     ]
    }
   ],
   "source": [
    "def plus_one_cipher(input_string):\n",
    "    output = \"\"\n",
    "    for char in input_string:\n",
    "        if char.isalpha():\n",
    "            shifted_char = chr((ord(char.upper()) - ord('A') + 1) % 26 + ord('A'))\n",
    "            if char.islower():\n",
    "                shifted_char = shifted_char.lower()\n",
    "            output += shifted_char\n",
    "        else:\n",
    "            output += char\n",
    "    return output\n",
    "\n",
    "input_string = input(\"Please enter a string: \")\n",
    "ciphered_string = plus_one_cipher(input_string)\n",
    "print(\"The plus one cipher is:\", ciphered_string)\n",
    "\n",
    "\n"
   ],
   "metadata": {
    "collapsed": false,
    "ExecuteTime": {
     "end_time": "2023-08-30T11:09:00.381160400Z",
     "start_time": "2023-08-30T11:08:53.976916700Z"
    }
   }
  },
  {
   "cell_type": "markdown",
   "source": [],
   "metadata": {
    "collapsed": false
   }
  },
  {
   "cell_type": "code",
   "execution_count": 11,
   "outputs": [
    {
     "ename": "SyntaxError",
     "evalue": "invalid character '“' (U+201C) (790036908.py, line 3)",
     "output_type": "error",
     "traceback": [
      "\u001B[1;36m  Cell \u001B[1;32mIn[11], line 3\u001B[1;36m\u001B[0m\n\u001B[1;33m    In a digital circuit, the number is only “0” or “1”. When we add, if we add without carry-on digit. It is the half adder, the half adder receives two digit value and returns the output (s as a sum bit), and c the carry-on (c as carry-on bit) from the adder. the block diagram of the half-adder as given\u001B[0m\n\u001B[1;37m                                             ^\u001B[0m\n\u001B[1;31mSyntaxError\u001B[0m\u001B[1;31m:\u001B[0m invalid character '“' (U+201C)\n"
     ]
    }
   ],
   "source": [
    "## Task 3\n",
    "\n",
    "In a digital circuit, the number is only “0” or “1”. When we add, if we add without carry-on digit. It is the half adder, the half adder receives two digit value and returns the output (s as a sum bit), and c the carry-on (c as carry-on bit) from the adder. the block diagram of the half-adder as given\n",
    "\n",
    "![download (7)](./assets/download(7).png)\n",
    "\n",
    "Making half adder circuit that can find the result of the summation of two digits using logic gates (AND, OR, NOT, NOR, NAND, XOR)\n",
    "\n",
    "**Hint**\n",
    "\n",
    "1. create the function which receives two digit value, and return the output of each logic gate AND, OR, and NOT\n",
    "2. NOR and NAND is the not Or, and Not And. So you can create the functions from AND, OR, NOT function\n",
    "3. using the methods to create a new half-adder functions The half adder is created using this circuit\n",
    "4. as there are two outputs, two functions are required, one for sum bit output, and the other for carry-on bit output\n",
    "\n",
    "![download (8)](./assets/download(8).png)\n",
    "\n",
    "\n",
    "def AND(a, b):\n",
    "    return a & b\n",
    "\n",
    "def OR(a, b):\n",
    "    return a | b\n",
    "\n",
    "def NOT(a):\n",
    "    return ~a & 1\n",
    "\n",
    "def NAND(a, b):\n",
    "    return NOT(AND(a, b))\n",
    "\n",
    "def NOR(a, b):\n",
    "    return NOT(OR(a, b))\n",
    "\n",
    "def XOR(a, b):\n",
    "    return a ^ b\n",
    "\n",
    "def half_adder(a, b):\n",
    "    sum_bit = XOR(a, b)\n",
    "    carry_bit = AND(a, b)\n",
    "    return sum_bit, carry_bit\n",
    "\n",
    "input_a = int(input(\"输入第一个输入（0或1）：\"))\n",
    "input_b = int(input(\"输入第二个输入（0或1）：\"))\n",
    "\n",
    "sum\n",
    "\n",
    "\n"
   ],
   "metadata": {
    "collapsed": false,
    "ExecuteTime": {
     "end_time": "2023-08-30T11:09:00.396803300Z",
     "start_time": "2023-08-30T11:09:00.348204600Z"
    }
   }
  },
  {
   "cell_type": "markdown",
   "source": [
    "## Task 4\n",
    "\n",
    "from the half adder function, create the full adder. The full adder is to added to data, wit the carry in input. the block diagram is shown as given\n",
    "\n",
    "![download (9)](./assets/download(9).png)\n",
    "\n"
   ],
   "metadata": {
    "collapsed": false
   }
  },
  {
   "cell_type": "markdown",
   "source": [
    "## Task 5: Duplicate words in a sentence\n",
    "\n",
    "Write a program that accepts a sequence of whitespace-separated words as input and prints them after removing all duplicate words and sorting them alphabetically.\n",
    "\n",
    "Suppose the following input is supplied to the program:\n",
    "\n",
    "> Hello world, and practice make perfect, and hello world again.\n",
    "\n",
    "Then the output should be:\n",
    "\n",
    "> again and hello makes perfect practice world\n",
    "def remove_duplicates_and_sort(words):\n",
    "    unique_words = list(set(words))\n",
    "    sorted_words = sorted(unique_words)\n",
    "    return \" \".join(sorted_words)\n",
    "\n",
    "input_text = input(\"Enter a sequence of words: \")\n",
    "word_list = input_text.split()\n",
    "\n",
    "result = remove_duplicates_and_sort(word_list)\n",
    "print(result)\n",
    "\n",
    "\n",
    "\n"
   ],
   "metadata": {
    "collapsed": false
   }
  },
  {
   "cell_type": "markdown",
   "source": [
    "## Task 6: Find 4-digits-binary that is divisible by 5\n",
    "\n",
    "Write a program that accepts a sequence of comma-separated 4-digit binary numbers as its input and then check whether they are divisible by 5. The numbers divisible by 5 are to be printed in a comma-separated sequence.\n",
    "\n",
    "Example:\n",
    "\n",
    "> 0100,0011,1010,1001\n",
    "\n",
    "Then the output should be\n",
    "\n",
    "> 1010"
   ],
   "metadata": {
    "collapsed": false
   }
  },
  {
   "cell_type": "markdown",
   "source": [
    "## Task 7: Number Value\n",
    "\n",
    "Write a program that computes the value of `a+aa+aaa+aaaa` with a given digit as the value of a\n",
    "\n",
    "Support the following input is supplied to the program, for example\n",
    "\n",
    "> input 9\n",
    "\n",
    "Then the output should be\n",
    "\n",
    "> 11106\n",
    "\n"
   ],
   "metadata": {
    "collapsed": false
   }
  },
  {
   "cell_type": "markdown",
   "source": [
    "## Task 8: Palindrome\n",
    "\n",
    "Write a program to generate the shortest palindrome word (e.g. DAD, AVOVA) in a given word.\n",
    "\n",
    "Example\n",
    "\n",
    "Input: ABCD\n",
    "\n",
    "Output: ABCDCBA\n",
    "\n",
    "Input: CAC\n",
    "\n",
    "Output: CAC\n",
    "\n",
    "Input: HELLO\n",
    "\n",
    "Output: HELLOLLEH\n",
    "\n",
    "Input: ABCDEDC\n",
    "\n",
    "Output: ABCDEDCBA"
   ],
   "metadata": {
    "collapsed": false
   }
  }
 ],
 "metadata": {
  "kernelspec": {
   "display_name": "Python 3",
   "language": "python",
   "name": "python3"
  },
  "language_info": {
   "codemirror_mode": {
    "name": "ipython",
    "version": 2
   },
   "file_extension": ".py",
   "mimetype": "text/x-python",
   "name": "python",
   "nbconvert_exporter": "python",
   "pygments_lexer": "ipython2",
   "version": "2.7.6"
  }
 },
 "nbformat": 4,
 "nbformat_minor": 0
}
