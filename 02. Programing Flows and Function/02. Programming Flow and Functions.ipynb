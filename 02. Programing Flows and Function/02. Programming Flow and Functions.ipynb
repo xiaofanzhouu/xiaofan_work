{
 "cells": [
  {
   "cell_type": "markdown",
   "source": [
    "# Programming Flow\n",
    "\n",
    "- The program flows from the beginning to the end\n",
    "\n",
    "- We have to think as a flow chart.\n",
    "\n",
    "  ![download (1)](./assets/download(1).png)"
   ],
   "metadata": {
    "collapsed": false
   }
  },
  {
   "cell_type": "markdown",
   "source": [
    "## Sequential Flow\n",
    "\n",
    "The program is call from one line to the other line\n",
    "\n",
    "Before writing the code\n",
    "\n",
    "What is the output of\n",
    "\n",
    "```python\n",
    "x = 2\n",
    "y = x + 2\n",
    "z = y ** 2\n",
    "\n",
    "print (z)\n",
    "```"
   ],
   "metadata": {
    "collapsed": false
   }
  },
  {
   "cell_type": "markdown",
   "source": [
    "### Task\n",
    "\n",
    "Now write the code to see the output"
   ],
   "metadata": {
    "collapsed": false
   }
  },
  {
   "cell_type": "code",
   "execution_count": 179,
   "outputs": [
    {
     "name": "stdout",
     "output_type": "stream",
     "text": [
      "16\n"
     ]
    }
   ],
   "source": [
    "x=2\n",
    "y=x+2\n",
    "z=y**2\n",
    "print (z)"
   ],
   "metadata": {
    "collapsed": false,
    "ExecuteTime": {
     "end_time": "2023-08-30T04:44:41.841970100Z",
     "start_time": "2023-08-30T04:44:40.776097700Z"
    }
   }
  },
  {
   "cell_type": "markdown",
   "source": [
    "## Boolean Expression\n",
    "\n",
    "- The flow of the code could be only sequenctial.\n",
    "- The decision is also required"
   ],
   "metadata": {
    "collapsed": false
   }
  },
  {
   "cell_type": "markdown",
   "source": [
    "**To make a decision** We need to make the choice\n",
    "\n",
    "> Boolean data type\n",
    "\n",
    "a data type that has one of two possible values\n",
    "\n",
    "- True\n",
    "- False\n",
    "\n",
    "Try\n",
    "\n",
    "```python\n",
    "True\n",
    "```"
   ],
   "metadata": {
    "collapsed": false
   }
  },
  {
   "cell_type": "code",
   "execution_count": 180,
   "outputs": [
    {
     "data": {
      "text/plain": "True"
     },
     "execution_count": 180,
     "metadata": {},
     "output_type": "execute_result"
    }
   ],
   "source": [
    "True"
   ],
   "metadata": {
    "collapsed": false,
    "ExecuteTime": {
     "end_time": "2023-08-30T04:44:42.470731200Z",
     "start_time": "2023-08-30T04:44:40.821389300Z"
    }
   }
  },
  {
   "cell_type": "markdown",
   "source": [
    "```python\n",
    "False\n",
    "```"
   ],
   "metadata": {
    "collapsed": false
   }
  },
  {
   "cell_type": "code",
   "execution_count": 181,
   "outputs": [
    {
     "data": {
      "text/plain": "False"
     },
     "execution_count": 181,
     "metadata": {},
     "output_type": "execute_result"
    }
   ],
   "source": [
    "False"
   ],
   "metadata": {
    "collapsed": false,
    "ExecuteTime": {
     "end_time": "2023-08-30T04:44:42.486758200Z",
     "start_time": "2023-08-30T04:44:40.852634400Z"
    }
   }
  },
  {
   "cell_type": "markdown",
   "source": [
    "## Boolean Operations\n",
    "\n",
    "The value is calculated by the comparison\n",
    "\n",
    "Using the mathematics\n",
    "\n",
    "What is the result of\n",
    "\n",
    "```python\n",
    "1 > 2\n",
    "```\n",
    "\n",
    "Then try to code"
   ],
   "metadata": {
    "collapsed": false
   }
  },
  {
   "cell_type": "code",
   "execution_count": 182,
   "outputs": [
    {
     "data": {
      "text/plain": "False"
     },
     "execution_count": 182,
     "metadata": {},
     "output_type": "execute_result"
    }
   ],
   "source": [
    "1>2"
   ],
   "metadata": {
    "collapsed": false,
    "ExecuteTime": {
     "end_time": "2023-08-30T04:44:42.486758200Z",
     "start_time": "2023-08-30T04:44:40.876285500Z"
    }
   }
  },
  {
   "cell_type": "markdown",
   "source": [
    "With the variable, the value which is kept in the variable is used to calculate\n",
    "\n",
    "What is the result of\n",
    "\n",
    "```\n",
    "x = 1\n",
    "y = 2\n",
    "y < x\n",
    "```\n",
    "\n",
    "Then try to code"
   ],
   "metadata": {
    "collapsed": false
   }
  },
  {
   "cell_type": "code",
   "execution_count": 183,
   "outputs": [
    {
     "data": {
      "text/plain": "False"
     },
     "execution_count": 183,
     "metadata": {},
     "output_type": "execute_result"
    }
   ],
   "source": [
    "x=1\n",
    "y=2\n",
    "y<x"
   ],
   "metadata": {
    "collapsed": false,
    "ExecuteTime": {
     "end_time": "2023-08-30T04:44:42.486758200Z",
     "start_time": "2023-08-30T04:44:40.899954200Z"
    }
   }
  },
  {
   "cell_type": "markdown",
   "source": [
    "### Relational Operation\n",
    "\n",
    "The mathematic operation\n",
    "\n",
    "compare the values\n",
    "\n",
    "What are these result data types?\n",
    "\n",
    "<table>\n",
    "<thead>\n",
    "<tr>\n",
    "<th style=\"text-align:center\">Operator</th>\n",
    "<th style=\"text-align:center\">Meaning</th>\n",
    "<th style=\"text-align:center\">Example</th>\n",
    "<th style=\"text-align:center\">Result</th>\n",
    "</tr>\n",
    "</thead>\n",
    "<tbody>\n",
    "<tr>\n",
    "<td style=\"text-align:center\">==</td>\n",
    "<td style=\"text-align:left\">equals</td>\n",
    "<td style=\"text-align:left\">1 + 1 == 2</td>\n",
    "<td style=\"text-align:center\"><input type=\"text\"></td>\n",
    "</tr>\n",
    "<tr>\n",
    "<td style=\"text-align:center\">!=</td>\n",
    "<td style=\"text-align:left\">does not equal</td>\n",
    "<td style=\"text-align:left\">3.2 != 2.5</td>\n",
    "<td style=\"text-align:center\"><input type=\"text\"></td>\n",
    "</tr>\n",
    "<tr>\n",
    "<td style=\"text-align:center\">&lt;</td>\n",
    "<td style=\"text-align:left\">less than</td>\n",
    "<td style=\"text-align:left\">10 &lt; 5</td>\n",
    "<td style=\"text-align:center\"><input type=\"text\"></td>\n",
    "</tr>\n",
    "<tr>\n",
    "<td style=\"text-align:center\">&gt;</td>\n",
    "<td style=\"text-align:left\">greater than</td>\n",
    "<td style=\"text-align:left\">10 &gt; 5</td>\n",
    "<td style=\"text-align:center\"><input type=\"text\"></td>\n",
    "</tr>\n",
    "<tr>\n",
    "<td style=\"text-align:center\">&lt;=</td>\n",
    "<td style=\"text-align:left\">less than or equal to</td>\n",
    "<td style=\"text-align:left\">126 &lt;= 100</td>\n",
    "<td style=\"text-align:center\"><input type=\"text\"></td>\n",
    "</tr>\n",
    "<tr>\n",
    "<td style=\"text-align:center\">&gt;=</td>\n",
    "<td style=\"text-align:left\">Greater than or equal to</td>\n",
    "<td style=\"text-align:left\">5.0 &gt;= 5.0</td>\n",
    "<td style=\"text-align:center\"><input type=\"text\"></td>\n",
    "</tr>\n",
    "</tbody>\n",
    "</table>\n",
    "\n",
    "**Then** try to write the code to see the result!!"
   ],
   "metadata": {
    "collapsed": false
   }
  },
  {
   "cell_type": "code",
   "execution_count": 184,
   "outputs": [
    {
     "data": {
      "text/plain": "True"
     },
     "execution_count": 184,
     "metadata": {},
     "output_type": "execute_result"
    }
   ],
   "source": [
    "1+1==2"
   ],
   "metadata": {
    "collapsed": false,
    "ExecuteTime": {
     "end_time": "2023-08-30T04:44:42.486758200Z",
     "start_time": "2023-08-30T04:44:40.931198100Z"
    }
   }
  },
  {
   "cell_type": "markdown",
   "source": [
    "## Selective Flows\n",
    "\n",
    "Selective flow is to select which code will be executed\n",
    "\n",
    "- The boolean expression is required.\n",
    "- Help to select the **block** of code\n",
    "\n",
    "### if\n",
    "\n",
    "If will check that if the expression is true, then the code will be selected\n",
    "\n",
    "![download (3)](./assets/download(3).png)"
   ],
   "metadata": {
    "collapsed": false
   }
  },
  {
   "cell_type": "markdown",
   "source": [
    "Try to write this code and run.\n",
    "\n",
    "```python\n",
    "gpa = 3.4\n",
    "if gpa > 2.0:\n",
    "  print ('Your application is accepted.')\n",
    "```\n",
    "\n",
    "then try to change your GPA  to 1.5 and see the result"
   ],
   "metadata": {
    "collapsed": false
   }
  },
  {
   "cell_type": "code",
   "execution_count": 185,
   "outputs": [
    {
     "name": "stdout",
     "output_type": "stream",
     "text": [
      "your application is accepted\n"
     ]
    }
   ],
   "source": [
    "gpa=3.4\n",
    "if gpa>2.0:\n",
    "    print('your application is accepted')"
   ],
   "metadata": {
    "collapsed": false,
    "ExecuteTime": {
     "end_time": "2023-08-30T04:44:42.486758200Z",
     "start_time": "2023-08-30T04:44:40.978475200Z"
    }
   }
  },
  {
   "cell_type": "markdown",
   "source": [
    "### If-Else\n",
    "\n",
    "if/else: Execute one block of states if a certain condition is `True`\n",
    "\n",
    "and the second block statements if it is `False`\n",
    "\n",
    "Syntax:\n",
    "\n",
    "> if **condition**:\n",
    ">\n",
    "> ​\t**statements**\n",
    ">\n",
    "> else:\n",
    ">\n",
    "> ​\t**statements**\n",
    "\n",
    "Flow example as follows:\n",
    "\n",
    "![download (4)](./assets/download(4).png)\n",
    "\n",
    "Try to type the code\n",
    "\n",
    "```python\n",
    "gpa = 1.4\n",
    "if gpa > 2.0:\n",
    "  print ('Welcome to CMU University')\n",
    "else:\n",
    "  print ('Your application is denied')\n",
    "```"
   ],
   "metadata": {
    "collapsed": false
   }
  },
  {
   "cell_type": "code",
   "execution_count": 186,
   "outputs": [
    {
     "name": "stdout",
     "output_type": "stream",
     "text": [
      "Your application is denied\n"
     ]
    }
   ],
   "source": [
    "gpa=1.4\n",
    "if gpa>2.0:\n",
    "    print('welcome to CMU University')\n",
    "else:\n",
    "    print('Your application is denied')"
   ],
   "metadata": {
    "collapsed": false,
    "ExecuteTime": {
     "end_time": "2023-08-30T04:44:42.518023400Z",
     "start_time": "2023-08-30T04:44:41.009741600Z"
    }
   }
  },
  {
   "cell_type": "markdown",
   "source": [
    "### Indentation\n",
    "\n",
    "- Group of statements\n",
    "  - Define by putting in the same indentation\n",
    "  - A set of blocks of statements that will execute under the same condition\n",
    "- With indentation\n",
    "  - The same scope executed under the previous indentation\n",
    "\n",
    "```python\n",
    "x = int(input(\"enter x:\"))\n",
    "if x > 1.5:\n",
    "  x = x *x\n",
    "  print(x)\n",
    "else:\n",
    "  x = x-x\n",
    "  print (x)\n",
    "```"
   ],
   "metadata": {
    "collapsed": false
   }
  },
  {
   "cell_type": "markdown",
   "source": [
    "### If-Else-If\n",
    "\n",
    "Multiple conditions can be chained with elif (\"else if\")\n",
    "\n",
    "> if **condition**:\n",
    ">\n",
    "> ​\t**statements**\n",
    ">\n",
    "> elif **condition**:\n",
    ">\n",
    "> ​\t**statements**\n",
    ">\n",
    "> else:\n",
    ">\n",
    "> ​\t**statements**\n",
    "\n",
    "![download (5)](./assets/download(5).png)\n",
    "\n",
    "####"
   ],
   "metadata": {
    "collapsed": false
   }
  },
  {
   "cell_type": "code",
   "execution_count": 186,
   "outputs": [],
   "source": [],
   "metadata": {
    "collapsed": false,
    "ExecuteTime": {
     "end_time": "2023-08-30T04:44:42.518023400Z",
     "start_time": "2023-08-30T04:44:41.040998300Z"
    }
   }
  },
  {
   "cell_type": "markdown",
   "source": [
    "#### Task\n",
    "\n",
    "Write a Python program that asks for the gpa and show the output regarding to the input gpa\n",
    "\n",
    "if gpa >= 3 , \"Accepted\"\n",
    "\n",
    "if 2.5 <=gpa < 3 , \"Condition Accepted\"\n",
    "\n",
    "if gpa<2.5, \"Rejected\""
   ],
   "metadata": {
    "collapsed": false
   }
  },
  {
   "cell_type": "code",
   "execution_count": 187,
   "outputs": [
    {
     "name": "stdout",
     "output_type": "stream",
     "text": [
      "condition accepted\n"
     ]
    }
   ],
   "source": [
    "gpa=2.6\n",
    "if gpa>=3:\n",
    "    print('accepted')\n",
    "elif 2.5<=gpa<3:\n",
    "    print('condition accepted')\n",
    "else :\n",
    "    print('rejected')\n"
   ],
   "metadata": {
    "collapsed": false,
    "ExecuteTime": {
     "end_time": "2023-08-30T04:44:42.518023400Z",
     "start_time": "2023-08-30T04:44:41.072241700Z"
    }
   }
  },
  {
   "cell_type": "markdown",
   "source": [
    "## Repetition\n",
    "\n",
    "Sometimes we need to do the same behavior until we get our expected result.\n",
    "\n",
    "That is the repetition\n",
    "\n",
    "The repetition can be done regarding the **times** or to **achieve** something"
   ],
   "metadata": {
    "collapsed": false
   }
  },
  {
   "cell_type": "markdown",
   "source": [
    "### Counting Loop\n",
    "\n",
    "for loop: Repeats a set of statements over a group of values.\n",
    "\n",
    "Syntax:\n",
    "\n",
    "for **variableName** in **groupOfValues**:\n",
    "\n",
    "​\t**statements**\n",
    "\n",
    "- We indent the statements to be repeated with tabs or spaces.\n",
    "- **variableName** gives a name to each value so that you can refer to it\n",
    "\n",
    "You can try this given code\n",
    "\n",
    "```python\n",
    "for x in range(1, 6):\n",
    "    print (x, \"squared is\", x * x)\n",
    "```"
   ],
   "metadata": {
    "collapsed": false
   }
  },
  {
   "cell_type": "code",
   "execution_count": 188,
   "outputs": [
    {
     "name": "stdout",
     "output_type": "stream",
     "text": [
      "1 squared is 1\n",
      "2 squared is 4\n",
      "3 squared is 9\n",
      "4 squared is 16\n",
      "5 squared is 25\n"
     ]
    }
   ],
   "source": [
    "for x in range(1,6):\n",
    "    print(x,\"squared is\",x*x)"
   ],
   "metadata": {
    "collapsed": false,
    "ExecuteTime": {
     "end_time": "2023-08-30T04:44:42.518023400Z",
     "start_time": "2023-08-30T04:44:41.103925900Z"
    }
   }
  },
  {
   "cell_type": "markdown",
   "source": [
    "**What is range??**\n",
    "\n",
    "It is a function specifies a range of integers\n",
    "\n",
    "`range(start, stop)` - the integers between `start` (inclusive) and stop (exclusive)\n",
    "\n",
    "try\n",
    "\n",
    "```python\n",
    "x = range(1,6)\n",
    "print(*x)\n",
    "```"
   ],
   "metadata": {
    "collapsed": false
   }
  },
  {
   "cell_type": "code",
   "execution_count": 189,
   "outputs": [
    {
     "name": "stdout",
     "output_type": "stream",
     "text": [
      "1 suqred is 1\n",
      "2 suqred is 4\n",
      "3 suqred is 9\n",
      "4 suqred is 16\n",
      "5 suqred is 25\n"
     ]
    }
   ],
   "source": [
    "for x in range(1,6):\n",
    "    print(x,\"suqred is\",x*x)"
   ],
   "metadata": {
    "collapsed": false,
    "ExecuteTime": {
     "end_time": "2023-08-30T04:44:42.518023400Z",
     "start_time": "2023-08-30T04:44:41.119557700Z"
    }
   }
  },
  {
   "cell_type": "markdown",
   "source": [
    "It can also accept a third value specifying the change between the value\n",
    "\n",
    "```\n",
    "range(start, stop, step)` - the integers between `start` (inclusive) and `stop` (exclusive) by `step\n",
    "```"
   ],
   "metadata": {
    "collapsed": false
   }
  },
  {
   "cell_type": "markdown",
   "source": [
    "Try\n",
    "\n",
    "```python\n",
    "y = range(5,0,1)\n",
    "print (*y)\n",
    "```"
   ],
   "metadata": {
    "collapsed": false
   }
  },
  {
   "cell_type": "code",
   "execution_count": 190,
   "outputs": [],
   "source": [
    "for y in range(5,0,1):\n",
    "    print(y,\"squared is\",y*y)"
   ],
   "metadata": {
    "collapsed": false,
    "ExecuteTime": {
     "end_time": "2023-08-30T04:44:42.518023400Z",
     "start_time": "2023-08-30T04:44:41.166436700Z"
    }
   }
  },
  {
   "cell_type": "markdown",
   "source": [
    "### Cumulative loop\n",
    "\n",
    "Some loops incrementally compute a value that is initialized outside the loop. This is sometimes called a *cumulative sum*.\n",
    "\n",
    "What will be the output of this code\n",
    "\n",
    "```python\n",
    "sum = 0\n",
    "for i in range(1, 5):\n",
    "    sum = sum + (i * i)\n",
    "print (\"sum of first 5 squares is\", sum)\n",
    "```\n",
    "\n",
    "Then try the code"
   ],
   "metadata": {
    "collapsed": false
   }
  },
  {
   "cell_type": "code",
   "execution_count": 191,
   "outputs": [
    {
     "name": "stdout",
     "output_type": "stream",
     "text": [
      "sum of first 5 square is 30\n"
     ]
    }
   ],
   "source": [
    "sum = 0\n",
    "for i in range(1,5):\n",
    "    sum = sum + (i*i)\n",
    "print('sum of first 5 square is',sum)"
   ],
   "metadata": {
    "collapsed": false,
    "ExecuteTime": {
     "end_time": "2023-08-30T04:44:42.564900100Z",
     "start_time": "2023-08-30T04:44:41.182476800Z"
    }
   }
  },
  {
   "cell_type": "markdown",
   "source": [
    "### Condition Loop\n",
    "\n",
    "The loop runs until the condition is false\n",
    "\n",
    "**while** loop:\n",
    "\n",
    "- Executes a group of statements as long as a condition is True.\n",
    "  - good for *indefinite* loops (repeat an **unknown** number of times)\n",
    "\n",
    "Syntax:\n",
    "\n",
    "> while  **condition**:\n",
    ">\n",
    "> ​\t**statements**\n",
    "\n",
    "Try to calculate this by hand\n",
    "\n",
    "```python\n",
    "number = 1\n",
    "while number < 2:\n",
    "  print(number)\n",
    "  number = number *2\n",
    "```\n",
    "\n",
    "Then code"
   ],
   "metadata": {
    "collapsed": false
   }
  },
  {
   "cell_type": "code",
   "execution_count": 192,
   "outputs": [
    {
     "name": "stdout",
     "output_type": "stream",
     "text": [
      "1\n"
     ]
    }
   ],
   "source": [
    "number=1\n",
    "while number<2:\n",
    "    print(number)\n",
    "    number=number*2"
   ],
   "metadata": {
    "collapsed": false,
    "ExecuteTime": {
     "end_time": "2023-08-30T04:44:42.564900100Z",
     "start_time": "2023-08-30T04:44:41.213739500Z"
    }
   }
  },
  {
   "cell_type": "markdown",
   "source": [
    "### Task\n",
    "\n",
    "create an application which receive the number, and it will print the number the user input.\n",
    "\n",
    "The process will run again and again until -1 is put."
   ],
   "metadata": {
    "collapsed": false
   }
  },
  {
   "cell_type": "code",
   "execution_count": 193,
   "outputs": [],
   "source": [
    "number=6\n",
    "while number<0:\n",
    "    print (number)\n",
    "    number=number-1"
   ],
   "metadata": {
    "collapsed": false,
    "ExecuteTime": {
     "end_time": "2023-08-30T04:44:42.564900100Z",
     "start_time": "2023-08-30T04:44:41.229373Z"
    }
   }
  },
  {
   "cell_type": "markdown",
   "source": [
    "# String Data Type\n",
    "\n",
    "A sequence of text characters in a program\n",
    "\n",
    "Strings start and end with quotation mark \" or apostrophe ' characters.\n",
    "\n",
    "> \"hello\"\n",
    ">\n",
    "> \"This is a string\"\n",
    ">\n",
    "> \"This, too, is a string. It can be very long\"\n",
    "\n",
    "Then try to create strings\n",
    "\n",
    "```python\n",
    "x = \"hello\"\n",
    "x\n",
    "```"
   ],
   "metadata": {
    "collapsed": false
   }
  },
  {
   "cell_type": "code",
   "execution_count": 194,
   "outputs": [
    {
     "name": "stdout",
     "output_type": "stream",
     "text": [
      "hello\n"
     ]
    }
   ],
   "source": [
    "x='hello'\n",
    "print (x)"
   ],
   "metadata": {
    "collapsed": false,
    "ExecuteTime": {
     "end_time": "2023-08-30T04:45:53.095712500Z",
     "start_time": "2023-08-30T04:45:52.969875Z"
    }
   }
  },
  {
   "cell_type": "markdown",
   "source": [
    "```python\n",
    "print(x)\n",
    "```"
   ],
   "metadata": {
    "collapsed": false
   }
  },
  {
   "cell_type": "code",
   "execution_count": 193,
   "outputs": [],
   "source": [],
   "metadata": {
    "collapsed": false,
    "ExecuteTime": {
     "end_time": "2023-08-30T04:44:42.580924400Z",
     "start_time": "2023-08-30T04:44:41.277265800Z"
    }
   }
  },
  {
   "cell_type": "markdown",
   "source": [
    "Try to create string\n",
    "\n",
    "```python\n",
    "\"hello 'world'\"\n",
    "```"
   ],
   "metadata": {
    "collapsed": false
   }
  },
  {
   "cell_type": "code",
   "execution_count": 195,
   "outputs": [
    {
     "name": "stdout",
     "output_type": "stream",
     "text": [
      "hello 'world'\n"
     ]
    }
   ],
   "source": [
    "x= \"hello 'world'\"\n",
    "print (x)"
   ],
   "metadata": {
    "collapsed": false,
    "ExecuteTime": {
     "end_time": "2023-08-30T04:47:04.627435100Z",
     "start_time": "2023-08-30T04:47:04.564512800Z"
    }
   }
  },
  {
   "cell_type": "markdown",
   "source": [
    "> A string may not span across multiple lines or contain the same quote character\n",
    "\n",
    "\"This is not\n",
    "\n",
    "a legal String.\"\n",
    "\n",
    "\"This is not a \"legal\" String either.\""
   ],
   "metadata": {
    "collapsed": false
   }
  },
  {
   "cell_type": "markdown",
   "source": [
    "## Escape character\n",
    "\n",
    "Some escape characters\n",
    "\n",
    "- the character which we could see directly\n",
    "\n",
    "- `\\t` tab character\n",
    "- `\\n` newline character\n",
    "- `\\\"` quotation mark character\n",
    "- `\\\\` backslash character\n",
    "\n",
    "What do you think it will be?\n",
    "\n",
    "```\n",
    "Hello\\tthere\\nHow are you?\n",
    "```\n",
    "\n",
    "then try\n",
    "\n"
   ],
   "metadata": {
    "collapsed": false
   }
  },
  {
   "cell_type": "code",
   "execution_count": 196,
   "outputs": [],
   "source": [
    "x='hello\\tthere\\nHow are you'"
   ],
   "metadata": {
    "collapsed": false,
    "ExecuteTime": {
     "end_time": "2023-08-30T04:53:14.238522200Z",
     "start_time": "2023-08-30T04:53:14.175592400Z"
    }
   }
  },
  {
   "cell_type": "markdown",
   "source": [
    "How about creating a character which will show\n",
    "\n",
    "' This is the\n",
    "\n",
    "test of the escape character, which will show '\"\n",
    "\n",
    "and the \\t '"
   ],
   "metadata": {
    "collapsed": false
   }
  },
  {
   "cell_type": "code",
   "execution_count": 206,
   "outputs": [
    {
     "data": {
      "text/plain": "<function print>"
     },
     "execution_count": 206,
     "metadata": {},
     "output_type": "execute_result"
    }
   ],
   "source": [
    "x='hello\\tthere\\nHow are you'\n",
    "print"
   ],
   "metadata": {
    "collapsed": false,
    "ExecuteTime": {
     "end_time": "2023-08-30T08:37:29.696287400Z",
     "start_time": "2023-08-30T08:37:29.661506900Z"
    }
   }
  },
  {
   "cell_type": "markdown",
   "source": [
    "However, we can use `'''` to wrap around the text which contain an escape character. try\n",
    "\n",
    "```python\n",
    "ex = '''\n",
    "This is\n",
    "a book\n",
    "name y\n",
    "'''\n",
    "print(ex)\n",
    "```\n",
    "\n",
    "check the content in side\n",
    "\n",
    "```python\n",
    "ex\n",
    "```"
   ],
   "metadata": {
    "collapsed": false
   }
  },
  {
   "cell_type": "code",
   "execution_count": 198,
   "outputs": [
    {
     "name": "stdout",
     "output_type": "stream",
     "text": [
      "\n",
      "this is\n",
      "a book\n",
      "name y\n",
      "\n"
     ]
    }
   ],
   "source": [
    "ex='''\n",
    "this is\n",
    "a book\n",
    "name y\n",
    "'''\n",
    "print (ex)"
   ],
   "metadata": {
    "collapsed": false,
    "ExecuteTime": {
     "end_time": "2023-08-30T04:56:09.278738100Z",
     "start_time": "2023-08-30T04:56:09.216221900Z"
    }
   }
  },
  {
   "cell_type": "markdown",
   "source": [
    "The string is the sequence of character\n",
    "\n",
    "aka **Array** of character\n",
    "\n",
    "for example:\n",
    "\n",
    "```python\n",
    "name = \"P. Diddy\"\n",
    "```"
   ],
   "metadata": {
    "collapsed": false
   }
  },
  {
   "cell_type": "code",
   "execution_count": 202,
   "outputs": [],
   "source": [
    "name=\"p.Diddy\""
   ],
   "metadata": {
    "collapsed": false,
    "ExecuteTime": {
     "end_time": "2023-08-30T08:18:27.866170900Z",
     "start_time": "2023-08-30T08:18:27.850537Z"
    }
   }
  },
  {
   "cell_type": "markdown",
   "source": [],
   "metadata": {
    "collapsed": false
   }
  },
  {
   "cell_type": "markdown",
   "source": [
    "| index     | 0 | 1 | 2 | 3 | 4 | 5 | 6 | 7 |\n",
    "|-----------|---|---|---|---|---|---|---|---|\n",
    "| character | P | . |   | D | i | d | d | y |\n",
    "\n",
    "> To access the individual character of a string\n",
    ">\n",
    "> ​\t\t**variableName** [**index**]\n",
    "\n",
    "try\n",
    "\n",
    "```python\n",
    "print(name, \"starts with\", name[0])\n",
    "```python\n",
    "print (name,\"starts with\",name[0])"
   ],
   "metadata": {
    "collapsed": false
   }
  },
  {
   "cell_type": "code",
   "execution_count": 204,
   "outputs": [
    {
     "name": "stdout",
     "output_type": "stream",
     "text": [
      "p.Diddy starts with p\n"
     ]
    },
    {
     "data": {
      "text/plain": "'python\\nprint(name,\"starts with\",name[0])'"
     },
     "execution_count": 204,
     "metadata": {},
     "output_type": "execute_result"
    }
   ],
   "source": [
    "print (name,\"starts with\",name[0])\n",
    "'''python\n",
    "print(name,\"starts with\",name[0])'''"
   ],
   "metadata": {
    "collapsed": false,
    "ExecuteTime": {
     "end_time": "2023-08-30T08:21:58.487545600Z",
     "start_time": "2023-08-30T08:21:58.346448100Z"
    }
   }
  },
  {
   "cell_type": "markdown",
   "source": [
    "What if I want to show `i`,\n",
    "\n",
    "write the code to show i in the name"
   ],
   "metadata": {
    "collapsed": false
   }
  },
  {
   "cell_type": "code",
   "execution_count": 205,
   "outputs": [
    {
     "name": "stdout",
     "output_type": "stream",
     "text": [
      "p.Diddy starts with d\n"
     ]
    },
    {
     "data": {
      "text/plain": "'python\\nprint(name,\"starts with\",name[i]'"
     },
     "execution_count": 205,
     "metadata": {},
     "output_type": "execute_result"
    }
   ],
   "source": [
    "print(name,\"starts with\",name[i])\n",
    "'''python\n",
    "print(name,\"starts with\",name[i]'''"
   ],
   "metadata": {
    "collapsed": false,
    "ExecuteTime": {
     "end_time": "2023-08-30T08:24:08.447424800Z",
     "start_time": "2023-08-30T08:24:08.321965200Z"
    }
   }
  },
  {
   "cell_type": "markdown",
   "source": [
    "## String properties\n",
    "\n",
    "There are functions and string functions that can get some data or manipulate the string"
   ],
   "metadata": {
    "collapsed": false
   }
  },
  {
   "cell_type": "markdown",
   "source": [
    "### General function\n",
    "\n",
    "The function which has been created (mainly by the Python creator, or other programmers) which returns something\n",
    "\n",
    "`len` function\n",
    "\n",
    "search for the description?"
   ],
   "metadata": {
    "collapsed": false
   }
  },
  {
   "cell_type": "code",
   "execution_count": 193,
   "outputs": [],
   "source": [],
   "metadata": {
    "collapsed": false,
    "ExecuteTime": {
     "end_time": "2023-08-30T04:44:42.680196200Z",
     "start_time": "2023-08-30T04:44:41.528065200Z"
    }
   }
  },
  {
   "cell_type": "markdown",
   "source": [
    "### Object functions\n",
    "\n",
    "Some python variables are objects.\n",
    "\n",
    "The object contains it's group of data\n",
    "\n",
    "and also its own function (in this case, mostly call as methods)\n",
    "\n",
    "> the format of usage is\n",
    "\n",
    "\n",
    "> variable_name.function_name(input variable if any)\n",
    "\n",
    "check\n",
    "\n",
    "String function\n",
    "\n",
    "- `lower()`\n",
    "- `upper()`\n",
    "\n",
    "Try the code\n",
    "\n",
    "```python\n",
    "name = \"Pita KK\"\n",
    "length = len(name)\n",
    "big_name = name.upper()\n",
    "print(big_name,\"has\",length,\"characters\")\n",
    "```"
   ],
   "metadata": {
    "collapsed": false
   }
  },
  {
   "cell_type": "code",
   "execution_count": 207,
   "outputs": [
    {
     "name": "stdout",
     "output_type": "stream",
     "text": [
      "PITA KK has 7 characters\n"
     ]
    }
   ],
   "source": [
    "name=\"pita Kk\"\n",
    "length=len(name)\n",
    "big_name=name.upper()\n",
    "print(big_name,\"has\",length,\"characters\")"
   ],
   "metadata": {
    "collapsed": false,
    "ExecuteTime": {
     "end_time": "2023-08-30T08:49:43.314012500Z",
     "start_time": "2023-08-30T08:49:43.267118700Z"
    }
   }
  },
  {
   "cell_type": "markdown",
   "source": [
    "## Text Processing\n",
    "\n",
    "- Examining, editing, and formatting text.\n",
    "- Often uses loops that examine the characters of a string one by one\n",
    "\n",
    "> A for loop can examine each character in a string in sequence.\n",
    "\n",
    "```python\n",
    "for c in \"booyah\":\n",
    "  print (c)\n",
    "```"
   ],
   "metadata": {
    "collapsed": false
   }
  },
  {
   "cell_type": "code",
   "execution_count": 193,
   "outputs": [],
   "source": [],
   "metadata": {
    "collapsed": false,
    "ExecuteTime": {
     "end_time": "2023-08-30T04:44:42.680196200Z",
     "start_time": "2023-08-30T04:44:41.559312600Z"
    }
   }
  },
  {
   "cell_type": "markdown",
   "source": [
    "## ASCII Table\n",
    "\n",
    "all data is mapped to a number\n",
    "\n",
    "- The computer does not save the character as the character\n",
    "- It saves as a number\n",
    "- Encode the data\n",
    "\n",
    "Then decode the number to the value"
   ],
   "metadata": {
    "collapsed": false
   }
  },
  {
   "cell_type": "markdown",
   "source": [
    "One of the most famous character encoders is ASCII\n",
    "\n",
    "> American Standard Code for Information Interchange\n",
    "\n",
    "- first published on 1963\n",
    "- the latest version is 1986"
   ],
   "metadata": {
    "collapsed": false
   }
  },
  {
   "cell_type": "markdown",
   "source": [
    "![File:ASCII-Table-wide.svg](./assets/800px-ASCII-Table-wide.svg.png)"
   ],
   "metadata": {
    "collapsed": false
   }
  },
  {
   "cell_type": "markdown",
   "source": [
    "## String and number\n",
    "\n",
    "Search for\n",
    "\n",
    "> function `ord(text)`\n",
    ">\n",
    "> Example: `ord(\"a\") is 97, ord(\"b\") is 98, ...`\n",
    "\n",
    "- Characters map to numbers using standardized mappings such as ASCII and Unicode\n",
    "\n",
    "Search for\n",
    "\n",
    "> function `chr(number)`\n",
    "\n",
    "```python\n",
    "chr(99) is \"c\"\n",
    "```\n",
    "###"
   ],
   "metadata": {
    "collapsed": false
   }
  },
  {
   "cell_type": "markdown",
   "source": [
    "### Task\n",
    "\n",
    "Write a program to print A to Z\n",
    "\n",
    "try to minimize your code as much as possible"
   ],
   "metadata": {
    "collapsed": false
   }
  },
  {
   "cell_type": "code",
   "execution_count": 210,
   "outputs": [
    {
     "name": "stdout",
     "output_type": "stream",
     "text": [
      "A B C D E F G H I J K L M N O P Q R S T U V W X Y Z "
     ]
    }
   ],
   "source": [
    "for letter in range(ord('A'), ord('Z')+1):\n",
    "    print(chr(letter), end=' ')\n"
   ],
   "metadata": {
    "collapsed": false,
    "ExecuteTime": {
     "end_time": "2023-08-30T08:56:23.811403200Z",
     "start_time": "2023-08-30T08:56:23.717180Z"
    }
   }
  },
  {
   "cell_type": "markdown",
   "source": [
    "# Function\n",
    "\n",
    "Putting a code into a set of call\n",
    "\n",
    "- may required parameter\n",
    "- return only one values\n",
    "  - can be a single value\n",
    "  - object values\n",
    "\n",
    "```python\n",
    "print(\"h\",\"y\",\"z\")\n",
    "```"
   ],
   "metadata": {
    "collapsed": false
   }
  },
  {
   "cell_type": "code",
   "execution_count": 211,
   "outputs": [
    {
     "name": "stdout",
     "output_type": "stream",
     "text": [
      "h y z\n"
     ]
    }
   ],
   "source": [
    "def print_letters(*letters):\n",
    "    result = \" \".join(letters)\n",
    "    return result\n",
    "\n",
    "letters_to_print = print_letters(\"h\", \"y\", \"z\")\n",
    "print(letters_to_print)\n"
   ],
   "metadata": {
    "collapsed": false,
    "ExecuteTime": {
     "end_time": "2023-08-30T08:59:36.468947800Z",
     "start_time": "2023-08-30T08:59:36.390418300Z"
    }
   }
  },
  {
   "cell_type": "markdown",
   "source": [
    "## Encapsulating code with functions\n",
    "\n",
    "Functions are useful for gathering similar pieces of code in one place. Consider the following mathematical function.\n",
    "$$\n",
    "x \\rightarrow f(x):= 2x + 1\n",
    "$$\n",
    "The Python equivalent is as follows:\n",
    "\n",
    "```python\n",
    "def f(x):\n",
    "  return 2*x + 1\n",
    "```"
   ],
   "metadata": {
    "collapsed": false
   }
  },
  {
   "cell_type": "code",
   "execution_count": 213,
   "outputs": [],
   "source": [
    "def f(x):\n",
    "    return 2*x+1"
   ],
   "metadata": {
    "collapsed": false,
    "ExecuteTime": {
     "end_time": "2023-08-30T09:05:09.532834400Z",
     "start_time": "2023-08-30T09:05:09.517531600Z"
    }
   }
  },
  {
   "cell_type": "markdown",
   "source": [
    "```python\n",
    "f(2)\n",
    "f(1)\n",
    "```"
   ],
   "metadata": {
    "collapsed": false
   }
  },
  {
   "cell_type": "code",
   "execution_count": 214,
   "outputs": [
    {
     "name": "stdout",
     "output_type": "stream",
     "text": [
      "23\n"
     ]
    }
   ],
   "source": [
    "x = f(11)\n",
    "print(x)\n"
   ],
   "metadata": {
    "collapsed": false,
    "ExecuteTime": {
     "end_time": "2023-08-30T09:06:12.609875900Z",
     "start_time": "2023-08-30T09:06:12.594246300Z"
    }
   }
  },
  {
   "cell_type": "markdown",
   "source": [
    "```python\n",
    "x = f(11)\n",
    "```"
   ],
   "metadata": {
    "collapsed": false
   }
  },
  {
   "cell_type": "code",
   "execution_count": 221,
   "outputs": [
    {
     "name": "stdout",
     "output_type": "stream",
     "text": [
      "11\n"
     ]
    }
   ],
   "source": [
    "from unittest import result\n",
    "\n",
    "\n",
    "def y(x):\n",
    "    return 2*x+1\n",
    "\n",
    "result=f(5)\n",
    "print (result)\n"
   ],
   "metadata": {
    "collapsed": false,
    "ExecuteTime": {
     "end_time": "2023-08-30T09:13:36.619401800Z",
     "start_time": "2023-08-30T09:13:36.490548Z"
    }
   }
  },
  {
   "cell_type": "markdown",
   "source": [
    "```python\n",
    "f = 5\n",
    "f(5)\n",
    "```"
   ],
   "metadata": {
    "collapsed": false
   }
  },
  {
   "cell_type": "code",
   "execution_count": 222,
   "outputs": [
    {
     "name": "stdout",
     "output_type": "stream",
     "text": [
      "1\n"
     ]
    }
   ],
   "source": [
    "input=input('text')\n",
    "print(input)"
   ],
   "metadata": {
    "collapsed": false,
    "ExecuteTime": {
     "end_time": "2023-08-30T09:14:33.390069400Z",
     "start_time": "2023-08-30T09:14:27.339102900Z"
    }
   }
  },
  {
   "cell_type": "markdown",
   "source": [
    "```python\n",
    "input = input('text')\n",
    "print(input)\n",
    "```\n"
   ],
   "metadata": {
    "collapsed": false
   }
  },
  {
   "cell_type": "code",
   "execution_count": 193,
   "outputs": [],
   "source": [],
   "metadata": {
    "collapsed": false,
    "ExecuteTime": {
     "end_time": "2023-08-30T04:44:42.722477Z",
     "start_time": "2023-08-30T04:44:41.779449200Z"
    }
   }
  },
  {
   "cell_type": "markdown",
   "source": [
    "- The keyword `def` tells Python we are defining a function.\n",
    "- `f` is the name of the function.\n",
    "- `x` is the argument, or input of the function.\n",
    "- What is after `return` is called the output to the function.\n",
    "\n",
    "![download (6)](./assets/download(6).png)"
   ],
   "metadata": {
    "collapsed": false
   }
  },
  {
   "cell_type": "markdown",
   "source": [
    "### Task\n",
    "\n",
    "Write the function for\n",
    "$$\n",
    "f(x) = x^2 + 0.25x -5\n",
    "$$\n",
    "Then write the code to receive 2.3 as an input parameter and show the result"
   ],
   "metadata": {
    "collapsed": false
   }
  },
  {
   "cell_type": "code",
   "execution_count": 193,
   "outputs": [],
   "source": [],
   "metadata": {
    "collapsed": false,
    "ExecuteTime": {
     "end_time": "2023-08-30T04:44:42.722477Z",
     "start_time": "2023-08-30T04:44:41.810714500Z"
    }
   }
  },
  {
   "cell_type": "markdown",
   "source": [
    "### Task 2\n",
    "\n",
    "define the price with Vat function.\n",
    "\n",
    "The function recieve the price of the item. Then return the price which has add the Vat with in.\n",
    "\n",
    "then after creating the function, write the code snippet to receive the name, and price of the item. then print out the name of the item and the price with vat"
   ],
   "metadata": {
    "collapsed": false
   }
  },
  {
   "cell_type": "code",
   "execution_count": 193,
   "outputs": [],
   "source": [],
   "metadata": {
    "collapsed": false,
    "ExecuteTime": {
     "end_time": "2023-08-30T04:44:42.753723700Z",
     "start_time": "2023-08-30T04:44:41.841970100Z"
    }
   }
  }
 ],
 "metadata": {
  "kernelspec": {
   "display_name": "Python 3",
   "language": "python",
   "name": "python3"
  },
  "language_info": {
   "codemirror_mode": {
    "name": "ipython",
    "version": 2
   },
   "file_extension": ".py",
   "mimetype": "text/x-python",
   "name": "python",
   "nbconvert_exporter": "python",
   "pygments_lexer": "ipython2",
   "version": "2.7.6"
  }
 },
 "nbformat": 4,
 "nbformat_minor": 0
}
