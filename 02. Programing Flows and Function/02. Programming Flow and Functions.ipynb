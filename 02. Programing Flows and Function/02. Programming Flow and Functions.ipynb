{
 "cells": [
  {
   "cell_type": "markdown",
   "source": [
    "# Programming Flow\n",
    "\n",
    "- The program flows from the beginning to the end\n",
    "\n",
    "- We have to think as a flow chart.\n",
    "\n",
    "  ![download (1)](./assets/download(1).png)"
   ],
   "metadata": {
    "collapsed": false
   }
  },
  {
   "cell_type": "markdown",
   "source": [
    "## Sequential Flow\n",
    "\n",
    "The program is call from one line to the other line\n",
    "\n",
    "Before writing the code\n",
    "\n",
    "What is the output of\n",
    "\n",
    "```python\n",
    "x = 2\n",
    "y = x + 2\n",
    "z = y ** 2\n",
    "\n",
    "print (z)\n",
    "```"
   ],
   "metadata": {
    "collapsed": false
   }
  },
  {
   "cell_type": "markdown",
   "source": [
    "### Task\n",
    "\n",
    "Now write the code to see the output"
   ],
   "metadata": {
    "collapsed": false
   }
  },
  {
   "cell_type": "code",
   "execution_count": 1,
   "outputs": [
    {
     "name": "stdout",
     "output_type": "stream",
     "text": [
      "16\n"
     ]
    }
   ],
   "source": [
    "x = 2\n",
    "y = x + 2\n",
    "z = y ** 2\n",
    "print(z)"
   ],
   "metadata": {
    "collapsed": false,
    "ExecuteTime": {
     "end_time": "2023-07-15T01:49:51.677690100Z",
     "start_time": "2023-07-15T01:49:51.666718500Z"
    }
   }
  },
  {
   "cell_type": "markdown",
   "source": [
    "## Boolean Expression\n",
    "\n",
    "- The flow of the code could be only sequenctial.\n",
    "- The decision is also required"
   ],
   "metadata": {
    "collapsed": false
   }
  },
  {
   "cell_type": "markdown",
   "source": [
    "**To make a decision** We need to make the choice\n",
    "\n",
    "> Boolean data type\n",
    "\n",
    "a data type that has one of two possible values\n",
    "\n",
    "- True\n",
    "- False\n",
    "\n",
    "Try\n",
    "\n",
    "```python\n",
    "True\n",
    "```"
   ],
   "metadata": {
    "collapsed": false
   }
  },
  {
   "cell_type": "code",
   "execution_count": 2,
   "outputs": [
    {
     "data": {
      "text/plain": "True"
     },
     "execution_count": 2,
     "metadata": {},
     "output_type": "execute_result"
    }
   ],
   "source": [
    "True"
   ],
   "metadata": {
    "collapsed": false,
    "ExecuteTime": {
     "end_time": "2023-07-15T01:54:53.162124500Z",
     "start_time": "2023-07-15T01:54:53.108813Z"
    }
   }
  },
  {
   "cell_type": "markdown",
   "source": [
    "```python\n",
    "False\n",
    "```"
   ],
   "metadata": {
    "collapsed": false
   }
  },
  {
   "cell_type": "code",
   "execution_count": 3,
   "outputs": [
    {
     "data": {
      "text/plain": "False"
     },
     "execution_count": 3,
     "metadata": {},
     "output_type": "execute_result"
    }
   ],
   "source": [
    "False"
   ],
   "metadata": {
    "collapsed": false,
    "ExecuteTime": {
     "end_time": "2023-07-15T01:56:25.071622400Z",
     "start_time": "2023-07-15T01:56:24.992843100Z"
    }
   }
  },
  {
   "cell_type": "markdown",
   "source": [
    "## Boolean Operations\n",
    "\n",
    "The value is calculated by the comparison\n",
    "\n",
    "Using the mathematics\n",
    "\n",
    "What is the result of\n",
    "\n",
    "```python\n",
    "1 > 2\n",
    "```\n",
    "\n",
    "Then try to code"
   ],
   "metadata": {
    "collapsed": false
   }
  },
  {
   "cell_type": "code",
   "execution_count": 4,
   "outputs": [
    {
     "data": {
      "text/plain": "False"
     },
     "execution_count": 4,
     "metadata": {},
     "output_type": "execute_result"
    }
   ],
   "source": [
    "1 > 2"
   ],
   "metadata": {
    "collapsed": false,
    "ExecuteTime": {
     "end_time": "2023-07-15T01:56:50.530625900Z",
     "start_time": "2023-07-15T01:56:50.435890300Z"
    }
   }
  },
  {
   "cell_type": "markdown",
   "source": [
    "With the variable, the value which is kept in the variable is used to calculate\n",
    "\n",
    "What is the result of\n",
    "\n",
    "```\n",
    "x = 1\n",
    "y = 2\n",
    "y < x\n",
    "```\n",
    "\n",
    "Then try to code"
   ],
   "metadata": {
    "collapsed": false
   }
  },
  {
   "cell_type": "code",
   "execution_count": 5,
   "outputs": [
    {
     "data": {
      "text/plain": "False"
     },
     "execution_count": 5,
     "metadata": {},
     "output_type": "execute_result"
    }
   ],
   "source": [
    "x = 1\n",
    "y = 2\n",
    "y < x"
   ],
   "metadata": {
    "collapsed": false,
    "ExecuteTime": {
     "end_time": "2023-07-15T01:58:38.695454500Z",
     "start_time": "2023-07-15T01:58:38.626642900Z"
    }
   }
  },
  {
   "cell_type": "markdown",
   "source": [
    "### Relational Operation\n",
    "\n",
    "The mathematic operation\n",
    "\n",
    "compare the values\n",
    "\n",
    "What are these result data types?\n",
    "\n",
    "<table>\n",
    "<thead>\n",
    "<tr>\n",
    "<th style=\"text-align:center\">Operator</th>\n",
    "<th style=\"text-align:center\">Meaning</th>\n",
    "<th style=\"text-align:center\">Example</th>\n",
    "<th style=\"text-align:center\">Result</th>\n",
    "</tr>\n",
    "</thead>\n",
    "<tbody>\n",
    "<tr>\n",
    "<td style=\"text-align:center\">==</td>\n",
    "<td style=\"text-align:left\">equals</td>\n",
    "<td style=\"text-align:left\">1 + 1 == 2</td>\n",
    "<td style=\"text-align:center\"><input type=\"text\"></td>\n",
    "</tr>\n",
    "<tr>\n",
    "<td style=\"text-align:center\">!=</td>\n",
    "<td style=\"text-align:left\">does not equal</td>\n",
    "<td style=\"text-align:left\">3.2 != 2.5</td>\n",
    "<td style=\"text-align:center\"><input type=\"text\"></td>\n",
    "</tr>\n",
    "<tr>\n",
    "<td style=\"text-align:center\">&lt;</td>\n",
    "<td style=\"text-align:left\">less than</td>\n",
    "<td style=\"text-align:left\">10 &lt; 5</td>\n",
    "<td style=\"text-align:center\"><input type=\"text\"></td>\n",
    "</tr>\n",
    "<tr>\n",
    "<td style=\"text-align:center\">&gt;</td>\n",
    "<td style=\"text-align:left\">greater than</td>\n",
    "<td style=\"text-align:left\">10 &gt; 5</td>\n",
    "<td style=\"text-align:center\"><input type=\"text\"></td>\n",
    "</tr>\n",
    "<tr>\n",
    "<td style=\"text-align:center\">&lt;=</td>\n",
    "<td style=\"text-align:left\">less than or equal to</td>\n",
    "<td style=\"text-align:left\">126 &lt;= 100</td>\n",
    "<td style=\"text-align:center\"><input type=\"text\"></td>\n",
    "</tr>\n",
    "<tr>\n",
    "<td style=\"text-align:center\">&gt;=</td>\n",
    "<td style=\"text-align:left\">Greater than or equal to</td>\n",
    "<td style=\"text-align:left\">5.0 &gt;= 5.0</td>\n",
    "<td style=\"text-align:center\"><input type=\"text\"></td>\n",
    "</tr>\n",
    "</tbody>\n",
    "</table>\n",
    "\n",
    "**Then** try to write the code to see the result!!"
   ],
   "metadata": {
    "collapsed": false
   }
  },
  {
   "cell_type": "code",
   "execution_count": null,
   "outputs": [],
   "source": [],
   "metadata": {
    "collapsed": false
   }
  },
  {
   "cell_type": "markdown",
   "source": [
    "## Selective Flows\n",
    "\n",
    "Selective flow is to select which code will be executed\n",
    "\n",
    "- The boolean expression is required.\n",
    "- Help to select the **block** of code\n",
    "\n",
    "### if\n",
    "\n",
    "If will check that if the expression is true, then the code will be selected\n",
    "\n",
    "![download (3)](./assets/download(3).png)"
   ],
   "metadata": {
    "collapsed": false
   }
  },
  {
   "cell_type": "markdown",
   "source": [
    "Try to write this code and run.\n",
    "\n",
    "```python\n",
    "gpa = 3.4\n",
    "if gpa > 2.0:\n",
    "  print ('Your application is accepted.')\n",
    "```\n",
    "\n",
    "then try to change your GPA  to 1.5 and see the result"
   ],
   "metadata": {
    "collapsed": false
   }
  },
  {
   "cell_type": "code",
   "execution_count": 10,
   "outputs": [],
   "source": [
    "gpa = 1.5\n",
    "if gpa > 2.0:\n",
    "    print('Your application is accepted.')"
   ],
   "metadata": {
    "collapsed": false,
    "ExecuteTime": {
     "end_time": "2023-07-15T02:13:14.705903700Z",
     "start_time": "2023-07-15T02:13:14.683964300Z"
    }
   }
  },
  {
   "cell_type": "markdown",
   "source": [
    "### If-Else\n",
    "\n",
    "if/else: Execute one block of states if a certain condition is `True`\n",
    "\n",
    "and the second block statements if it is `False`\n",
    "\n",
    "Syntax:\n",
    "\n",
    "> if **condition**:\n",
    ">\n",
    "> ​\t**statements**\n",
    ">\n",
    "> else:\n",
    ">\n",
    "> ​\t**statements**\n",
    "\n",
    "Flow example as follows:\n",
    "\n",
    "![download (4)](./assets/download(4).png)\n",
    "\n",
    "Try to type the code\n",
    "\n",
    "```python\n",
    "gpa = 1.4\n",
    "if gpa > 2.0:\n",
    "  print ('Welcome to CMU University')\n",
    "else:\n",
    "  print ('Your application is denied')\n",
    "```"
   ],
   "metadata": {
    "collapsed": false
   }
  },
  {
   "cell_type": "code",
   "execution_count": 18,
   "outputs": [
    {
     "name": "stdout",
     "output_type": "stream",
     "text": [
      "Wellcom to CMU University\n",
      "new gpa is 1.2\n",
      "final gpa 1.2\n"
     ]
    }
   ],
   "source": [
    "gpa = 2.4\n",
    "if gpa > 2.0:\n",
    "    print('Wellcom to CMU University')\n",
    "    gpa = gpa / 2\n",
    "    print('new gpa is', gpa)\n",
    "else:\n",
    "    print('Your application is denied')\n",
    "print('final gpa', gpa)"
   ],
   "metadata": {
    "collapsed": false,
    "ExecuteTime": {
     "end_time": "2023-07-15T02:23:25.248628400Z",
     "start_time": "2023-07-15T02:23:25.201447700Z"
    }
   }
  },
  {
   "cell_type": "markdown",
   "source": [
    "### Indentation\n",
    "\n",
    "- Group of statements\n",
    "  - Define by putting in the same indentation\n",
    "  - A set of blocks of statements that will execute under the same condition\n",
    "- With indentation\n",
    "  - The same scope executed under the previous indentation\n",
    "\n",
    "```python\n",
    "x = int(input(\"enter x:\"))\n",
    "if x > 1.5:\n",
    "  x = x *x\n",
    "  print(x)\n",
    "else:\n",
    "  x = x-x\n",
    "  print (x)\n",
    "```"
   ],
   "metadata": {
    "collapsed": false
   }
  },
  {
   "cell_type": "code",
   "execution_count": 26,
   "outputs": [
    {
     "name": "stdout",
     "output_type": "stream",
     "text": [
      "16\n"
     ]
    }
   ],
   "source": [
    "x = int(input(\"enter x:\"))\n",
    "if x > 1.5:\n",
    "    if (x % 2 == 0):\n",
    "        x = x * x\n",
    "    else:\n",
    "        x = x + x\n",
    "    print(x)\n",
    "else:\n",
    "    x = x - x\n",
    "    print(x)"
   ],
   "metadata": {
    "collapsed": false,
    "ExecuteTime": {
     "end_time": "2023-07-15T02:29:42.494597400Z",
     "start_time": "2023-07-15T02:29:39.754183200Z"
    }
   }
  },
  {
   "cell_type": "markdown",
   "source": [
    "### If-Else-If\n",
    "\n",
    "Multiple conditions can be chained with elif (\"else if\")\n",
    "\n",
    "> if **condition**:\n",
    ">\n",
    "> ​\t**statements**\n",
    ">\n",
    "> elif **condition**:\n",
    ">\n",
    "> ​\t**statements**\n",
    ">\n",
    "> else:\n",
    ">\n",
    "> ​\t**statements**\n",
    "\n",
    "![download (5)](./assets/download(5).png)\n",
    "\n",
    "####"
   ],
   "metadata": {
    "collapsed": false
   }
  },
  {
   "cell_type": "code",
   "execution_count": null,
   "outputs": [],
   "source": [],
   "metadata": {
    "collapsed": false
   }
  },
  {
   "cell_type": "markdown",
   "source": [
    "#### Task\n",
    "\n",
    "Write a Python program that asks for the gpa and show the output regarding to the input gpa\n",
    "\n",
    "if gpa >= 3 , \"Accepted\"\n",
    "\n",
    "if 2.5 <=gpa < 3 , \"Condition Accepted\"\n",
    "\n",
    "if gpa<2.5, \"Rejected\""
   ],
   "metadata": {
    "collapsed": false
   }
  },
  {
   "cell_type": "code",
   "execution_count": 44,
   "outputs": [
    {
     "name": "stdout",
     "output_type": "stream",
     "text": [
      "Rejected\n"
     ]
    }
   ],
   "source": [
    "gpa = float(input(\"enter gpa:\"))\n",
    "if gpa >= 3:\n",
    "    print('Accepted')\n",
    "elif gpa >= 2.5 and gpa < 3:\n",
    "    print(\"Condition Accepted\")\n",
    "else:\n",
    "    print(\"Rejected\")\n"
   ],
   "metadata": {
    "collapsed": false,
    "ExecuteTime": {
     "end_time": "2023-07-15T02:54:27.571060200Z",
     "start_time": "2023-07-15T02:54:26.507943100Z"
    }
   }
  },
  {
   "cell_type": "markdown",
   "source": [
    "## Repetition\n",
    "\n",
    "Sometimes we need to do the same behavior until we get our expected result.\n",
    "\n",
    "That is the repetition\n",
    "\n",
    "The repetition can be done regarding the **times** or to **achieve** something"
   ],
   "metadata": {
    "collapsed": false
   }
  },
  {
   "cell_type": "markdown",
   "source": [
    "### Counting Loop\n",
    "\n",
    "for loop: Repeats a set of statements over a group of values.\n",
    "\n",
    "Syntax:\n",
    "\n",
    "for **variableName** in **groupOfValues**:\n",
    "\n",
    "​\t**statements**\n",
    "\n",
    "- We indent the statements to be repeated with tabs or spaces.\n",
    "- **variableName** gives a name to each value so that you can refer to it\n",
    "\n",
    "You can try this given code\n",
    "\n",
    "```python\n",
    "for x in range(1, 6):\n",
    "    print (x, \"squared is\", x * x)\n",
    "```"
   ],
   "metadata": {
    "collapsed": false
   }
  },
  {
   "cell_type": "code",
   "execution_count": 54,
   "outputs": [
    {
     "name": "stdout",
     "output_type": "stream",
     "text": [
      "1 squared is 1\n",
      "3 squared is 9\n",
      "5 squared is 25\n",
      "finish loop\n"
     ]
    }
   ],
   "source": [
    "for x in range(1, 6):\n",
    "    if (x % 2 == 1):\n",
    "        print(x, \"squared is\", x * x)\n",
    "print(\"finish loop\")"
   ],
   "metadata": {
    "collapsed": false,
    "ExecuteTime": {
     "end_time": "2023-07-15T03:19:17.362594900Z",
     "start_time": "2023-07-15T03:19:17.335364800Z"
    }
   }
  },
  {
   "cell_type": "markdown",
   "source": [
    "**What is range??**\n",
    "\n",
    "It is a function specifies a range of integers\n",
    "\n",
    "`range(start, stop)` - the integers between `start` (inclusive) and stop (exclusive)\n",
    "\n",
    "try\n",
    "\n",
    "```python\n",
    "x = range(1,6)\n",
    "print(*x)\n",
    "```"
   ],
   "metadata": {
    "collapsed": false
   }
  },
  {
   "cell_type": "code",
   "execution_count": 50,
   "outputs": [
    {
     "name": "stdout",
     "output_type": "stream",
     "text": [
      "1 2 3 4 5\n"
     ]
    }
   ],
   "source": [
    "x = range(1, 6)\n",
    "print(*x)"
   ],
   "metadata": {
    "collapsed": false,
    "ExecuteTime": {
     "end_time": "2023-07-15T03:14:07.715659300Z",
     "start_time": "2023-07-15T03:14:07.689726600Z"
    }
   }
  },
  {
   "cell_type": "markdown",
   "source": [
    "It can also accept a third value specifying the change between the value\n",
    "\n",
    "```\n",
    "range(start, stop, step)` - the integers between `start` (inclusive) and `stop` (exclusive) by `step\n",
    "```"
   ],
   "metadata": {
    "collapsed": false
   }
  },
  {
   "cell_type": "markdown",
   "source": [
    "Try\n",
    "\n",
    "```python\n",
    "y = range(5,0,1)\n",
    "print (*y)\n",
    "```"
   ],
   "metadata": {
    "collapsed": false
   }
  },
  {
   "cell_type": "code",
   "execution_count": 55,
   "outputs": [
    {
     "name": "stdout",
     "output_type": "stream",
     "text": [
      "5 4 3 2 1\n"
     ]
    }
   ],
   "source": [
    "y = range(5, 0, -1)\n",
    "print(*y)"
   ],
   "metadata": {
    "collapsed": false,
    "ExecuteTime": {
     "end_time": "2023-07-15T03:20:56.600938400Z",
     "start_time": "2023-07-15T03:20:56.577004400Z"
    }
   }
  },
  {
   "cell_type": "markdown",
   "source": [
    "### Cumulative loop\n",
    "\n",
    "Some loops incrementally compute a value that is initialized outside the loop. This is sometimes called a *cumulative sum*.\n",
    "\n",
    "What will be the output of this code\n",
    "\n",
    "```python\n",
    "sum = 0\n",
    "for i in range(1, 5):\n",
    "    sum = sum + (i * i)\n",
    "print (\"sum of first 5 squares is\", sum)\n",
    "```\n",
    "\n",
    "Then try the code"
   ],
   "metadata": {
    "collapsed": false
   }
  },
  {
   "cell_type": "code",
   "execution_count": 56,
   "outputs": [
    {
     "name": "stdout",
     "output_type": "stream",
     "text": [
      "sum of first 5 square is 30\n"
     ]
    }
   ],
   "source": [
    "sum = 0\n",
    "for i in range(1, 5):\n",
    "    sum = sum + (i * i)\n",
    "print(\"sum of first 5 square is\", sum)"
   ],
   "metadata": {
    "collapsed": false,
    "ExecuteTime": {
     "end_time": "2023-07-15T03:24:01.968357600Z",
     "start_time": "2023-07-15T03:24:01.945710800Z"
    }
   }
  },
  {
   "cell_type": "markdown",
   "source": [
    "### Condition Loop\n",
    "\n",
    "The loop runs until the condition is false\n",
    "\n",
    "**while** loop:\n",
    "\n",
    "- Executes a group of statements as long as a condition is True.\n",
    "  - good for *indefinite* loops (repeat an **unknown** number of times)\n",
    "\n",
    "Syntax:\n",
    "\n",
    "> while  **condition**:\n",
    ">\n",
    "> ​\t**statements**\n",
    "\n",
    "Try to calculate this by hand\n",
    "\n",
    "```python\n",
    "number = 1\n",
    "while number < 2:\n",
    "  print(number)\n",
    "  number = number *2\n",
    "```\n",
    "\n",
    "Then code"
   ],
   "metadata": {
    "collapsed": false
   }
  },
  {
   "cell_type": "code",
   "execution_count": 58,
   "outputs": [
    {
     "name": "stdout",
     "output_type": "stream",
     "text": [
      "sum of first 1 squares is 1\n",
      "sum of first 2 squares is 5\n",
      "sum of first 3 squares is 14\n",
      "sum of first 4 squares is 30\n",
      "sum of first 5 squares is 55\n",
      "sum of first 6 squares is 91\n",
      "sum of first 7 squares is 140\n"
     ]
    }
   ],
   "source": [
    "sum = 0\n",
    "index = 0\n",
    "while (sum < 100):\n",
    "    index = index + 1\n",
    "    sum = sum + (index * index)\n",
    "    print(\"sum of first\", index, \"squares is\", sum)"
   ],
   "metadata": {
    "collapsed": false,
    "ExecuteTime": {
     "end_time": "2023-07-15T03:28:41.771130500Z",
     "start_time": "2023-07-15T03:28:41.542808Z"
    }
   }
  },
  {
   "cell_type": "markdown",
   "source": [
    "### Task\n",
    "\n",
    "create an application which receive the number, and it will print the number the user input.\n",
    "\n",
    "The process will run again and again until -1 is put."
   ],
   "metadata": {
    "collapsed": false
   }
  },
  {
   "cell_type": "code",
   "execution_count": 65,
   "outputs": [
    {
     "name": "stdout",
     "output_type": "stream",
     "text": [
      "5\n",
      "-1\n"
     ]
    }
   ],
   "source": [
    "x = 0\n",
    "while (x != -1):\n",
    "    x = int(input(\"input x:\"))\n",
    "    print(x)"
   ],
   "metadata": {
    "collapsed": false,
    "ExecuteTime": {
     "end_time": "2023-07-15T03:38:49.728369600Z",
     "start_time": "2023-07-15T03:38:40.525279700Z"
    }
   }
  },
  {
   "cell_type": "code",
   "execution_count": 68,
   "outputs": [
    {
     "name": "stdout",
     "output_type": "stream",
     "text": [
      "the input value is 5\n",
      "the input value is 3\n"
     ]
    }
   ],
   "source": [
    "while (True):\n",
    "    value = int(input(\"input value:\"))\n",
    "    if value == -1:\n",
    "        break\n",
    "    print(\"the input value is\", value)"
   ],
   "metadata": {
    "collapsed": false,
    "ExecuteTime": {
     "end_time": "2023-07-15T03:54:55.643146300Z",
     "start_time": "2023-07-15T03:54:49.563408200Z"
    }
   }
  },
  {
   "cell_type": "markdown",
   "source": [
    "# String Data Type\n",
    "\n",
    "A sequence of text characters in a program\n",
    "\n",
    "Strings start and end with quotation mark \" or apostrophe ' characters.\n",
    "\n",
    "> \"hello\"\n",
    ">\n",
    "> \"This is a string\"\n",
    ">\n",
    "> \"This, too, is a string. It can be very long\"\n",
    "\n",
    "Then try to create strings\n",
    "\n",
    "```python\n",
    "x = \"hello\"\n",
    "x\n",
    "```"
   ],
   "metadata": {
    "collapsed": false
   }
  },
  {
   "cell_type": "code",
   "execution_count": 66,
   "outputs": [
    {
     "data": {
      "text/plain": "'hello'"
     },
     "execution_count": 66,
     "metadata": {},
     "output_type": "execute_result"
    }
   ],
   "source": [
    "x = \"hello\"\n",
    "x"
   ],
   "metadata": {
    "collapsed": false,
    "ExecuteTime": {
     "end_time": "2023-07-15T03:40:45.611858700Z",
     "start_time": "2023-07-15T03:40:45.530798300Z"
    }
   }
  },
  {
   "cell_type": "markdown",
   "source": [
    "```python\n",
    "print(x)\n",
    "```"
   ],
   "metadata": {
    "collapsed": false
   }
  },
  {
   "cell_type": "code",
   "execution_count": 67,
   "outputs": [
    {
     "name": "stdout",
     "output_type": "stream",
     "text": [
      "hello\n"
     ]
    }
   ],
   "source": [
    "print(x)"
   ],
   "metadata": {
    "collapsed": false,
    "ExecuteTime": {
     "end_time": "2023-07-15T03:50:23.983392800Z",
     "start_time": "2023-07-15T03:50:23.940671100Z"
    }
   }
  },
  {
   "cell_type": "markdown",
   "source": [
    "Try to create string\n",
    "\n",
    "```python\n",
    "\"hello 'world'\"\n",
    "```"
   ],
   "metadata": {
    "collapsed": false
   }
  },
  {
   "cell_type": "code",
   "execution_count": 70,
   "outputs": [
    {
     "data": {
      "text/plain": "\"hello 'world'\""
     },
     "execution_count": 70,
     "metadata": {},
     "output_type": "execute_result"
    }
   ],
   "source": [
    "\"hello 'world'\""
   ],
   "metadata": {
    "collapsed": false,
    "ExecuteTime": {
     "end_time": "2023-07-15T04:05:53.141138800Z",
     "start_time": "2023-07-15T04:05:53.120768600Z"
    }
   }
  },
  {
   "cell_type": "markdown",
   "source": [
    "> A string may not span across multiple lines or contain the same quote character\n",
    "\n",
    "\"This is not\n",
    "\n",
    "a legal String.\"\n",
    "\n",
    "\"This is not a \"legal\" String either.\""
   ],
   "metadata": {
    "collapsed": false
   }
  },
  {
   "cell_type": "code",
   "execution_count": 71,
   "outputs": [
    {
     "ename": "SyntaxError",
     "evalue": "EOL while scanning string literal (437391503.py, line 1)",
     "output_type": "error",
     "traceback": [
      "\u001B[1;36m  Cell \u001B[1;32mIn[71], line 1\u001B[1;36m\u001B[0m\n\u001B[1;33m    \"This is not\u001B[0m\n\u001B[1;37m                ^\u001B[0m\n\u001B[1;31mSyntaxError\u001B[0m\u001B[1;31m:\u001B[0m EOL while scanning string literal\n"
     ]
    }
   ],
   "source": [
    "\"This is not\n",
    "a\n",
    "legal\n",
    "String\n",
    "\"\n",
    "\"This is not a \"\n",
    "legal\n",
    "\" String either.\""
   ],
   "metadata": {
    "collapsed": false,
    "ExecuteTime": {
     "end_time": "2023-07-15T04:08:08.283484600Z",
     "start_time": "2023-07-15T04:08:08.250571800Z"
    }
   }
  },
  {
   "cell_type": "markdown",
   "source": [
    "## Escape character\n",
    "\n",
    "Some escape characters\n",
    "\n",
    "- the character which we could see directly\n",
    "\n",
    "- `\\t` tab character\n",
    "- `\\n` newline character\n",
    "- `\\\"` quotation mark character\n",
    "- `\\\\` backslash character\n",
    "\n",
    "What do you think it will be?\n",
    "\n",
    "```\n",
    "Hello\\tthere\\nHow are you?\n",
    "```\n",
    "\n",
    "then try\n",
    "\n"
   ],
   "metadata": {
    "collapsed": false
   }
  },
  {
   "cell_type": "code",
   "execution_count": 74,
   "outputs": [
    {
     "name": "stdout",
     "output_type": "stream",
     "text": [
      "Hello\tthere\n",
      "How are you?\n"
     ]
    }
   ],
   "source": [
    "print(\"Hello\\tthere\\nHow are you?\")"
   ],
   "metadata": {
    "collapsed": false,
    "ExecuteTime": {
     "end_time": "2023-07-15T04:11:03.946765Z",
     "start_time": "2023-07-15T04:11:03.926820300Z"
    }
   }
  },
  {
   "cell_type": "markdown",
   "source": [
    "How about creating a character which will show\n",
    "\n",
    "' This is the\n",
    "\n",
    "test of the escape character, which will show '\"\n",
    "\n",
    "and the \\t '"
   ],
   "metadata": {
    "collapsed": false
   }
  },
  {
   "cell_type": "code",
   "execution_count": 75,
   "outputs": [
    {
     "name": "stdout",
     "output_type": "stream",
     "text": [
      "'This is the\n",
      "test of the esxape character, which will show '\"\n",
      "and the \\t\n"
     ]
    }
   ],
   "source": [
    "print(\"\\'This is the\\ntest of the esxape character, which will show \\'\\\"\\nand the \\\\t\")"
   ],
   "metadata": {
    "collapsed": false,
    "ExecuteTime": {
     "end_time": "2023-07-15T04:13:28.195078300Z",
     "start_time": "2023-07-15T04:13:28.130643700Z"
    }
   }
  },
  {
   "cell_type": "markdown",
   "source": [
    "However, we can use `'''` to wrap around the text which contain an escape character. try\n",
    "\n",
    "```python\n",
    "ex = '''\n",
    "This is\n",
    "a book\n",
    "name y\n",
    "'''\n",
    "print(ex)\n",
    "```\n",
    "\n",
    "check the content in side\n",
    "\n",
    "```python\n",
    "ex\n",
    "```"
   ],
   "metadata": {
    "collapsed": false
   }
  },
  {
   "cell_type": "code",
   "execution_count": 77,
   "outputs": [
    {
     "name": "stdout",
     "output_type": "stream",
     "text": [
      "\n",
      "This is\n",
      "a book\n",
      "name y\n",
      "\n"
     ]
    }
   ],
   "source": [
    "ex = '''\n",
    "This is\n",
    "a book\n",
    "name y\n",
    "'''\n",
    "print(ex)"
   ],
   "metadata": {
    "collapsed": false,
    "ExecuteTime": {
     "end_time": "2023-07-15T04:16:10.361968900Z",
     "start_time": "2023-07-15T04:16:10.297143400Z"
    }
   }
  },
  {
   "cell_type": "code",
   "execution_count": 78,
   "outputs": [
    {
     "data": {
      "text/plain": "'\\nThis is\\na book\\nname y\\n'"
     },
     "execution_count": 78,
     "metadata": {},
     "output_type": "execute_result"
    }
   ],
   "source": [
    "ex"
   ],
   "metadata": {
    "collapsed": false,
    "ExecuteTime": {
     "end_time": "2023-07-15T04:16:57.245513600Z",
     "start_time": "2023-07-15T04:16:57.212603Z"
    }
   }
  },
  {
   "cell_type": "markdown",
   "source": [
    "The string is the sequence of character\n",
    "\n",
    "aka **Array** of character\n",
    "\n",
    "for example:\n",
    "\n",
    "```python\n",
    "name = \"P. Diddy\"\n",
    "```"
   ],
   "metadata": {
    "collapsed": false
   }
  },
  {
   "cell_type": "code",
   "execution_count": 2,
   "outputs": [],
   "source": [
    "name = \"p. Diddy\""
   ],
   "metadata": {
    "collapsed": false,
    "ExecuteTime": {
     "end_time": "2023-07-22T01:51:31.296601600Z",
     "start_time": "2023-07-22T01:51:31.271665300Z"
    }
   }
  },
  {
   "cell_type": "markdown",
   "source": [],
   "metadata": {
    "collapsed": false
   }
  },
  {
   "cell_type": "markdown",
   "source": [
    "| index     | 0 | 1 | 2 | 3 | 4 | 5 | 6 | 7 |\n",
    "|-----------|---|---|---|---|---|---|---|---|\n",
    "| character | P | . |   | D | i | d | d | y |\n",
    "\n",
    "> To access the individual character of a string\n",
    ">\n",
    "> ​\t\t**variableName** [**index**]\n",
    "\n",
    "try\n",
    "\n",
    "```python\n",
    "print(name, \"starts with\", name[0])\n",
    "```"
   ],
   "metadata": {
    "collapsed": false
   }
  },
  {
   "cell_type": "code",
   "execution_count": 3,
   "outputs": [
    {
     "name": "stdout",
     "output_type": "stream",
     "text": [
      "p. Diddy starts with p\n"
     ]
    }
   ],
   "source": [
    "print(name, \"starts with\", name[0])"
   ],
   "metadata": {
    "collapsed": false,
    "ExecuteTime": {
     "end_time": "2023-07-22T01:54:03.406992900Z",
     "start_time": "2023-07-22T01:54:03.306253700Z"
    }
   }
  },
  {
   "cell_type": "markdown",
   "source": [
    "What if I want to show `i`,\n",
    "\n",
    "write the code to show i in the name"
   ],
   "metadata": {
    "collapsed": false
   }
  },
  {
   "cell_type": "code",
   "execution_count": 6,
   "outputs": [
    {
     "name": "stdout",
     "output_type": "stream",
     "text": [
      "i\n"
     ]
    }
   ],
   "source": [
    "print(name[4])"
   ],
   "metadata": {
    "collapsed": false,
    "ExecuteTime": {
     "end_time": "2023-07-22T01:56:12.856684800Z",
     "start_time": "2023-07-22T01:56:12.801636500Z"
    }
   }
  },
  {
   "cell_type": "markdown",
   "source": [
    "## String properties\n",
    "\n",
    "There are functions and string functions that can get some data or manipulate the string"
   ],
   "metadata": {
    "collapsed": false
   }
  },
  {
   "cell_type": "markdown",
   "source": [
    "### General function\n",
    "\n",
    "The function which has been created (mainly by the Python creator, or other programmers) which returns something\n",
    "\n",
    "`len` function\n",
    "\n",
    "search for the description?"
   ],
   "metadata": {
    "collapsed": false
   }
  },
  {
   "cell_type": "code",
   "execution_count": 7,
   "outputs": [
    {
     "data": {
      "text/plain": "8"
     },
     "execution_count": 7,
     "metadata": {},
     "output_type": "execute_result"
    }
   ],
   "source": [
    "len(name)"
   ],
   "metadata": {
    "collapsed": false,
    "ExecuteTime": {
     "end_time": "2023-07-22T01:58:42.589686Z",
     "start_time": "2023-07-22T01:58:42.490940300Z"
    }
   }
  },
  {
   "cell_type": "markdown",
   "source": [
    "### Object functions\n",
    "\n",
    "Some python variables are objects.\n",
    "\n",
    "The object contains it's group of data\n",
    "\n",
    "and also its own function (in this case, mostly call as methods)\n",
    "\n",
    "> the format of usage is\n",
    "\n",
    "\n",
    "> variable_name.function_name(input variable if any)\n",
    "\n",
    "check\n",
    "\n",
    "String function\n",
    "\n",
    "- `lower()`\n",
    "- `upper()`\n",
    "\n",
    "Try the code\n",
    "\n",
    "```python\n",
    "name = \"Pita KK\"\n",
    "length = len(name)\n",
    "big_name = name.upper()\n",
    "print(big_name,\"has\",length,\"characters\")\n",
    "```"
   ],
   "metadata": {
    "collapsed": false
   }
  },
  {
   "cell_type": "code",
   "execution_count": 11,
   "outputs": [
    {
     "name": "stdout",
     "output_type": "stream",
     "text": [
      "pita kk yoyo has 12 characters\n"
     ]
    }
   ],
   "source": [
    "name = \"Pita KK Yoyo\"\n",
    "length = len(name)\n",
    "big_name = name.lower()\n",
    "print(big_name, \"has\", length, \"characters\")"
   ],
   "metadata": {
    "collapsed": false,
    "ExecuteTime": {
     "end_time": "2023-07-22T02:04:38.648198100Z",
     "start_time": "2023-07-22T02:04:38.605615200Z"
    }
   }
  },
  {
   "cell_type": "markdown",
   "source": [
    "## Text Processing\n",
    "\n",
    "- Examining, editing, and formatting text.\n",
    "- Often uses loops that examine the characters of a string one by one\n",
    "\n",
    "> A for loop can examine each character in a string in sequence.\n",
    "\n",
    "```python\n",
    "for c in \"booyah\":\n",
    "  print (c)\n",
    "```"
   ],
   "metadata": {
    "collapsed": false
   }
  },
  {
   "cell_type": "code",
   "execution_count": 12,
   "outputs": [
    {
     "name": "stdout",
     "output_type": "stream",
     "text": [
      "b\n",
      "o\n",
      "o\n",
      "y\n",
      "a\n",
      "h\n"
     ]
    }
   ],
   "source": [
    "for c in \"booyah\":\n",
    "    print(c)"
   ],
   "metadata": {
    "collapsed": false,
    "ExecuteTime": {
     "end_time": "2023-07-22T02:08:52.580392900Z",
     "start_time": "2023-07-22T02:08:52.536110Z"
    }
   }
  },
  {
   "cell_type": "markdown",
   "source": [
    "## ASCII Table\n",
    "\n",
    "all data is mapped to a number\n",
    "\n",
    "- The computer does not save the character as the character\n",
    "- It saves as a number\n",
    "- Encode the data\n",
    "\n",
    "Then decode the number to the value"
   ],
   "metadata": {
    "collapsed": false
   }
  },
  {
   "cell_type": "markdown",
   "source": [
    "One of the most famous character encoders is ASCII\n",
    "\n",
    "> American Standard Code for Information Interchange\n",
    "\n",
    "- first published on 1963\n",
    "- the latest version is 1986"
   ],
   "metadata": {
    "collapsed": false
   }
  },
  {
   "cell_type": "markdown",
   "source": [
    "![File:ASCII-Table-wide.svg](./assets/800px-ASCII-Table-wide.svg.png)"
   ],
   "metadata": {
    "collapsed": false
   }
  },
  {
   "cell_type": "markdown",
   "source": [
    "## String and number\n",
    "\n",
    "Search for\n",
    "\n",
    "> function `ord(text)`\n",
    ">\n",
    "> Example: `ord(\"a\") is 97, ord(\"b\") is 98, ...`\n",
    "\n",
    "- Characters map to numbers using standardized mappings such as ASCII and Unicode\n",
    "\n",
    "Search for\n",
    "\n",
    "> function `chr(number)`\n",
    "\n",
    "```python\n",
    "chr(99) is \"c\"\n",
    "```\n",
    "###"
   ],
   "metadata": {
    "collapsed": false
   }
  },
  {
   "cell_type": "code",
   "execution_count": 15,
   "outputs": [
    {
     "data": {
      "text/plain": "3586"
     },
     "execution_count": 15,
     "metadata": {},
     "output_type": "execute_result"
    }
   ],
   "source": [
    "ord('ข')"
   ],
   "metadata": {
    "collapsed": false,
    "ExecuteTime": {
     "end_time": "2023-07-22T02:23:26.575742600Z",
     "start_time": "2023-07-22T02:23:26.554575900Z"
    }
   }
  },
  {
   "cell_type": "code",
   "execution_count": 17,
   "outputs": [
    {
     "data": {
      "text/plain": "'M'"
     },
     "execution_count": 17,
     "metadata": {},
     "output_type": "execute_result"
    }
   ],
   "source": [
    "chr(77)"
   ],
   "metadata": {
    "collapsed": false,
    "ExecuteTime": {
     "end_time": "2023-07-22T02:26:13.458880600Z",
     "start_time": "2023-07-22T02:26:13.401093500Z"
    }
   }
  },
  {
   "cell_type": "markdown",
   "source": [
    "### Task\n",
    "\n",
    "Write a program to print A to Z\n",
    "\n",
    "try to minimize your code as much as possible"
   ],
   "metadata": {
    "collapsed": false
   }
  },
  {
   "cell_type": "code",
   "execution_count": 22,
   "outputs": [
    {
     "name": "stdout",
     "output_type": "stream",
     "text": [
      "A\n",
      "B\n",
      "C\n",
      "D\n",
      "E\n",
      "F\n",
      "G\n",
      "H\n",
      "I\n",
      "J\n",
      "K\n",
      "L\n",
      "M\n",
      "N\n",
      "O\n",
      "P\n",
      "Q\n",
      "R\n",
      "S\n",
      "T\n",
      "U\n",
      "V\n",
      "W\n",
      "X\n",
      "Y\n",
      "Z\n"
     ]
    }
   ],
   "source": [
    "for i in range(65, 91):\n",
    "    print(chr(i))"
   ],
   "metadata": {
    "collapsed": false,
    "ExecuteTime": {
     "end_time": "2023-07-22T02:29:33.199984900Z",
     "start_time": "2023-07-22T02:29:33.178043800Z"
    }
   }
  },
  {
   "cell_type": "markdown",
   "source": [
    "# Function\n",
    "\n",
    "Putting a code into a set of call\n",
    "\n",
    "- may required parameter\n",
    "- return only one values\n",
    "  - can be a single value\n",
    "  - object values\n",
    "\n",
    "```python\n",
    "print(\"h\",\"y\",\"z\")\n",
    "```"
   ],
   "metadata": {
    "collapsed": false
   }
  },
  {
   "cell_type": "code",
   "execution_count": null,
   "outputs": [],
   "source": [],
   "metadata": {
    "collapsed": false
   }
  },
  {
   "cell_type": "markdown",
   "source": [
    "## Encapsulating code with functions\n",
    "\n",
    "Functions are useful for gathering similar pieces of code in one place. Consider the following mathematical function.\n",
    "$$\n",
    "x \\rightarrow f(x):= 2x + 1\n",
    "$$\n",
    "The Python equivalent is as follows:\n",
    "\n",
    "```python\n",
    "def f(x):\n",
    "  return 2*x + 1\n",
    "```"
   ],
   "metadata": {
    "collapsed": false
   }
  },
  {
   "cell_type": "code",
   "execution_count": 27,
   "outputs": [],
   "source": [
    "def f(x):\n",
    "    return 2 * x + 1"
   ],
   "metadata": {
    "collapsed": false,
    "ExecuteTime": {
     "end_time": "2023-07-22T02:43:33.936334200Z",
     "start_time": "2023-07-22T02:43:33.916444400Z"
    }
   }
  },
  {
   "cell_type": "markdown",
   "source": [
    "```python\n",
    "f(2)\n",
    "f(1)\n",
    "```"
   ],
   "metadata": {
    "collapsed": false
   }
  },
  {
   "cell_type": "code",
   "execution_count": 28,
   "outputs": [
    {
     "data": {
      "text/plain": "5"
     },
     "execution_count": 28,
     "metadata": {},
     "output_type": "execute_result"
    }
   ],
   "source": [
    "f(2)"
   ],
   "metadata": {
    "collapsed": false,
    "ExecuteTime": {
     "end_time": "2023-07-22T02:43:46.511750400Z",
     "start_time": "2023-07-22T02:43:46.497755400Z"
    }
   }
  },
  {
   "cell_type": "markdown",
   "source": [
    "```python\n",
    "x = f(11)\n",
    "```"
   ],
   "metadata": {
    "collapsed": false
   }
  },
  {
   "cell_type": "code",
   "execution_count": 26,
   "outputs": [
    {
     "ename": "TypeError",
     "evalue": "'int' object is not callable",
     "output_type": "error",
     "traceback": [
      "\u001B[1;31m---------------------------------------------------------------------------\u001B[0m",
      "\u001B[1;31mTypeError\u001B[0m                                 Traceback (most recent call last)",
      "Cell \u001B[1;32mIn[26], line 2\u001B[0m\n\u001B[0;32m      1\u001B[0m f\u001B[38;5;241m=\u001B[39m \u001B[38;5;241m5\u001B[39m\n\u001B[1;32m----> 2\u001B[0m \u001B[43mf\u001B[49m\u001B[43m(\u001B[49m\u001B[38;5;241;43m5\u001B[39;49m\u001B[43m)\u001B[49m\n",
      "\u001B[1;31mTypeError\u001B[0m: 'int' object is not callable"
     ]
    }
   ],
   "source": [
    "f= 5\n",
    "f(5)"
   ],
   "metadata": {
    "collapsed": false,
    "ExecuteTime": {
     "end_time": "2023-07-22T02:43:11.875485300Z",
     "start_time": "2023-07-22T02:43:10.951865500Z"
    }
   }
  },
  {
   "cell_type": "markdown",
   "source": [
    "```python\n",
    "f = 5\n",
    "f(5)\n",
    "```"
   ],
   "metadata": {
    "collapsed": false
   }
  },
  {
   "cell_type": "code",
   "execution_count": null,
   "outputs": [],
   "source": [],
   "metadata": {
    "collapsed": false
   }
  },
  {
   "cell_type": "markdown",
   "source": [
    "```python\n",
    "input = input('text')\n",
    "print(input)\n",
    "```\n"
   ],
   "metadata": {
    "collapsed": false
   }
  },
  {
   "cell_type": "code",
   "execution_count": null,
   "outputs": [],
   "source": [],
   "metadata": {
    "collapsed": false
   }
  },
  {
   "cell_type": "markdown",
   "source": [
    "- The keyword `def` tells Python we are defining a function.\n",
    "- `f` is the name of the function.\n",
    "- `x` is the argument, or input of the function.\n",
    "- What is after `return` is called the output to the function.\n",
    "\n",
    "![download (6)](./assets/download(6).png)"
   ],
   "metadata": {
    "collapsed": false
   }
  },
  {
   "cell_type": "markdown",
   "source": [
    "### Task\n",
    "\n",
    "Write the function for\n",
    "$$\n",
    "f(x) = x^2 + 0.25x -5\n",
    "$$\n",
    "Then write the code to receive 2.3 as an input parameter and show the result"
   ],
   "metadata": {
    "collapsed": false
   }
  },
  {
   "cell_type": "code",
   "execution_count": 32,
   "outputs": [],
   "source": [
    "def f(x):\n",
    "    return (x**2)+0.25*x-5"
   ],
   "metadata": {
    "collapsed": false,
    "ExecuteTime": {
     "end_time": "2023-07-22T02:47:13.229296200Z",
     "start_time": "2023-07-22T02:47:13.187025200Z"
    }
   }
  },
  {
   "cell_type": "code",
   "execution_count": 35,
   "outputs": [
    {
     "data": {
      "text/plain": "0.8649999999999993"
     },
     "execution_count": 35,
     "metadata": {},
     "output_type": "execute_result"
    }
   ],
   "source": [
    "f(2.3)"
   ],
   "metadata": {
    "collapsed": false,
    "ExecuteTime": {
     "end_time": "2023-07-22T02:47:43.660691700Z",
     "start_time": "2023-07-22T02:47:43.632727600Z"
    }
   }
  },
  {
   "cell_type": "markdown",
   "source": [
    "### Task 2\n",
    "\n",
    "define the price with Vat function.\n",
    "\n",
    "The function recieve the price of the item. Then return the price which has add the Vat with in.\n",
    "\n",
    "then after creating the function, write the code snippet to receive the name, and price of the item. then print out the name of the item and the price with vat"
   ],
   "metadata": {
    "collapsed": false
   }
  },
  {
   "cell_type": "code",
   "execution_count": 48,
   "outputs": [],
   "source": [
    "def vat(name,pwithvat):\n",
    "    pwithvat=round(pwithvat*1.07,2)\n",
    "    str = (name,pwithvat)\n",
    "    return str"
   ],
   "metadata": {
    "collapsed": false,
    "ExecuteTime": {
     "end_time": "2023-07-22T03:08:32.989800100Z",
     "start_time": "2023-07-22T03:08:32.945916Z"
    }
   }
  },
  {
   "cell_type": "code",
   "execution_count": 49,
   "outputs": [
    {
     "data": {
      "text/plain": "('pen', 21.4)"
     },
     "execution_count": 49,
     "metadata": {},
     "output_type": "execute_result"
    }
   ],
   "source": [
    "vat (\"pen\",20)"
   ],
   "metadata": {
    "collapsed": false,
    "ExecuteTime": {
     "end_time": "2023-07-22T03:08:35.295435600Z",
     "start_time": "2023-07-22T03:08:35.245027100Z"
    }
   }
  },
  {
   "cell_type": "code",
   "execution_count": 50,
   "outputs": [
    {
     "data": {
      "text/plain": "('pen', 107.0)"
     },
     "execution_count": 50,
     "metadata": {},
     "output_type": "execute_result"
    }
   ],
   "source": [
    "vat(name = str(input(\"input item name:\")),pwithvat=(float(input(\"input price:\"))))"
   ],
   "metadata": {
    "collapsed": false,
    "ExecuteTime": {
     "end_time": "2023-07-22T03:13:21.132018700Z",
     "start_time": "2023-07-22T03:13:14.842632600Z"
    }
   }
  },
  {
   "cell_type": "code",
   "execution_count": null,
   "outputs": [],
   "source": [],
   "metadata": {
    "collapsed": false
   }
  }
 ],
 "metadata": {
  "kernelspec": {
   "display_name": "Python 3",
   "language": "python",
   "name": "python3"
  },
  "language_info": {
   "codemirror_mode": {
    "name": "ipython",
    "version": 2
   },
   "file_extension": ".py",
   "mimetype": "text/x-python",
   "name": "python",
   "nbconvert_exporter": "python",
   "pygments_lexer": "ipython2",
   "version": "2.7.6"
  }
 },
 "nbformat": 4,
 "nbformat_minor": 0
}
